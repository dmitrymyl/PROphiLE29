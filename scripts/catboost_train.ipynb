{
 "cells": [
  {
   "cell_type": "markdown",
   "metadata": {},
   "source": [
    "# import modules and functions"
   ]
  },
  {
   "cell_type": "code",
   "execution_count": 1,
   "metadata": {
    "ExecuteTime": {
     "end_time": "2020-12-06T06:57:32.598777Z",
     "start_time": "2020-12-06T06:57:30.302535Z"
    },
    "collapsed": true
   },
   "outputs": [
    {
     "name": "stderr",
     "output_type": "stream",
     "text": [
      "/Users/azbukinanadezda/anaconda3/lib/python3.6/site-packages/statsmodels/tools/_testing.py:19: FutureWarning: pandas.util.testing is deprecated. Use the functions in the public API at pandas.testing instead.\n",
      "  import pandas.util.testing as tm\n"
     ]
    }
   ],
   "source": [
    "import matplotlib.pyplot as plt\n",
    "import matplotlib\n",
    "\n",
    "import pandas as pd\n",
    "import numpy as np\n",
    "import seaborn as sns\n",
    "import json\n",
    "\n",
    "import catboost as cat\n",
    "#import shap\n",
    "\n",
    "\n",
    "from sklearn.model_selection import train_test_split\n",
    "from sklearn.model_selection import GridSearchCV\n",
    "from sklearn.model_selection import RandomizedSearchCV\n",
    "from sklearn.model_selection import KFold\n",
    "\n",
    "from sklearn.metrics import mean_squared_error\n",
    "from sklearn.metrics import classification_report\n",
    "from sklearn import preprocessing\n",
    "from sklearn.metrics import precision_recall_curve\n",
    "from sklearn.metrics import auc\n",
    "from sklearn.metrics import roc_auc_score\n",
    "from sklearn.metrics import roc_curve\n",
    "\n",
    "import warnings\n",
    "warnings.filterwarnings('ignore')"
   ]
  },
  {
   "cell_type": "code",
   "execution_count": 2,
   "metadata": {
    "ExecuteTime": {
     "end_time": "2020-12-06T06:57:32.607847Z",
     "start_time": "2020-12-06T06:57:32.601186Z"
    }
   },
   "outputs": [],
   "source": [
    "def read_json(file_name):\n",
    "    \n",
    "    with open(file_name, \"r\") as read_file:\n",
    "        data = json.load(read_file)\n",
    "    return(pd.DataFrame(data).T)"
   ]
  },
  {
   "cell_type": "code",
   "execution_count": 3,
   "metadata": {
    "ExecuteTime": {
     "end_time": "2020-12-06T06:57:32.624684Z",
     "start_time": "2020-12-06T06:57:32.613929Z"
    }
   },
   "outputs": [],
   "source": [
    "#make binary from ss and coevol\n",
    "#ss bound - 95-98\n",
    "#coevolution 105-112\n",
    "\n",
    "def make_binary_disulf(ao_lists):\n",
    "    result = [\"1\" if pair == [\"C\", \"C\"] else \"0\" for pair in ao_lists]\n",
    "    return(result)\n",
    "    \n"
   ]
  },
  {
   "cell_type": "code",
   "execution_count": 4,
   "metadata": {
    "ExecuteTime": {
     "end_time": "2020-12-06T06:57:32.648719Z",
     "start_time": "2020-12-06T06:57:32.638628Z"
    }
   },
   "outputs": [],
   "source": [
    "def feature_selection(clf, x_test, y_test, cat_feautures):\n",
    "    \n",
    "    indexes_of_categories = [x_train.columns.get_loc(col) for col in cat_feautures]\n",
    "    shap_values = clf.get_feature_importance(cat.Pool(x_test, label=y_test,\n",
    "                                                      cat_features=indexes_of_categories), \n",
    "                                                                     type=\"ShapValues\")\n",
    "    #meanings \n",
    "    expected_value = shap_values[0,-1]\n",
    "    shap_values = shap_values[:,:-1]\n",
    "    \n",
    "    #plot importance\n",
    "    shap.summary_plot(shap_values, x_test, plot_type=\"bar\")\n",
    "    \n",
    "    vals= np.abs(shap_values).mean(0)\n",
    "    feature_importance = pd.DataFrame(list(zip(x_train.columns,vals)),columns=['col_name','feature_importance_vals'])\n",
    "    feature_importance.sort_values(by=['feature_importance_vals'],ascending=False,inplace=True)\n",
    "    feature_importance.reset_index(drop=True,inplace = True) \n",
    "    \n",
    "    return(feature_importance)"
   ]
  },
  {
   "cell_type": "markdown",
   "metadata": {},
   "source": [
    "# read files and prepare test/train//val"
   ]
  },
  {
   "cell_type": "code",
   "execution_count": 5,
   "metadata": {
    "ExecuteTime": {
     "end_time": "2020-12-06T06:57:32.992688Z",
     "start_time": "2020-12-06T06:57:32.655948Z"
    }
   },
   "outputs": [
    {
     "data": {
      "text/plain": [
       "(2185, 11)"
      ]
     },
     "execution_count": 5,
     "metadata": {},
     "output_type": "execute_result"
    }
   ],
   "source": [
    "f29p = read_json(\"positive.json\")\n",
    "#f29n = read_json(\"negative_set_polb.json\")\n",
    "f29n = read_json(\"search_set_filtered_viral_v2.json\")\n",
    "f29p[\"target\"] = [1 for i in range(f29p.shape[0])]\n",
    "f29n[\"target\"] = [0 for i in range(f29n.shape[0])]\n",
    "\n",
    "f29 = pd.concat([f29p, f29n])\n",
    "f29.shape"
   ]
  },
  {
   "cell_type": "code",
   "execution_count": 6,
   "metadata": {
    "ExecuteTime": {
     "end_time": "2020-12-06T06:57:33.051747Z",
     "start_time": "2020-12-06T06:57:32.996310Z"
    },
    "scrolled": true
   },
   "outputs": [
    {
     "data": {
      "text/html": [
       "<div>\n",
       "<style scoped>\n",
       "    .dataframe tbody tr th:only-of-type {\n",
       "        vertical-align: middle;\n",
       "    }\n",
       "\n",
       "    .dataframe tbody tr th {\n",
       "        vertical-align: top;\n",
       "    }\n",
       "\n",
       "    .dataframe thead th {\n",
       "        text-align: right;\n",
       "    }\n",
       "</style>\n",
       "<table border=\"1\" class=\"dataframe\">\n",
       "  <thead>\n",
       "    <tr style=\"text-align: right;\">\n",
       "      <th></th>\n",
       "      <th>catalytic</th>\n",
       "      <th>dntp_binding</th>\n",
       "      <th>primer_binding</th>\n",
       "      <th>exonuclease</th>\n",
       "      <th>Mg</th>\n",
       "      <th>replication_activity</th>\n",
       "      <th>conservative</th>\n",
       "      <th>ssbonds</th>\n",
       "      <th>pockets</th>\n",
       "      <th>coevolution</th>\n",
       "      <th>target</th>\n",
       "    </tr>\n",
       "  </thead>\n",
       "  <tbody>\n",
       "    <tr>\n",
       "      <th>tr|A0A2S1GQF7|A0A2S1GQF7_9CAUD</th>\n",
       "      <td>[M, P, P]</td>\n",
       "      <td>[Y, Q, K, A, G, Y, Y]</td>\n",
       "      <td>[V, S, D, V, N, R, -, F]</td>\n",
       "      <td>[A, Q, K, E, M, L, L, Y, K, Y, Y, N, A, G, C, P]</td>\n",
       "      <td>[K, N, D, L, M, P]</td>\n",
       "      <td>[F, N, Y, F, M, F, P, G, A, -, D, S, Y, S, N, ...</td>\n",
       "      <td>[P, Y, D, G, S, L, K, Y, I, V, D, L, K, G, E, ...</td>\n",
       "      <td>[[I, M], [V, L], [F, V], [N, C]]</td>\n",
       "      <td>[I, -, -, -, V, -]</td>\n",
       "      <td>[[G, Y], [N, G], [N, Q], [G, V], [N, -], [F, V...</td>\n",
       "      <td>1</td>\n",
       "    </tr>\n",
       "    <tr>\n",
       "      <th>tr|A0A0M9JDK6|A0A0M9JDK6_9CAUD</th>\n",
       "      <td>[M, P, P]</td>\n",
       "      <td>[Y, Q, K, A, G, Y, Y]</td>\n",
       "      <td>[V, S, D, V, N, R, -, F]</td>\n",
       "      <td>[A, Q, K, E, M, L, L, Y, K, Y, Y, N, A, G, C, P]</td>\n",
       "      <td>[K, N, D, L, M, P]</td>\n",
       "      <td>[F, N, Y, F, M, F, P, G, A, -, D, S, Y, S, N, ...</td>\n",
       "      <td>[P, Y, D, G, S, L, K, Y, I, V, D, L, K, G, E, ...</td>\n",
       "      <td>[[I, M], [V, L], [F, V], [N, C]]</td>\n",
       "      <td>[I, -, -, -, V, -]</td>\n",
       "      <td>[[G, Y], [N, G], [N, Q], [G, V], [N, -], [F, V...</td>\n",
       "      <td>1</td>\n",
       "    </tr>\n",
       "    <tr>\n",
       "      <th>tr|C7BV40|C7BV40_9CAUD</th>\n",
       "      <td>[S, P, Y]</td>\n",
       "      <td>[Y, R, K, A, S, Y, W]</td>\n",
       "      <td>[V, S, D, L, S, R, -, V]</td>\n",
       "      <td>[E, H, K, E, M, L, L, Y, E, H, F, N, A, S, N, P]</td>\n",
       "      <td>[K, N, D, L, S, P]</td>\n",
       "      <td>[F, S, F, Y, V, Y, A, G, A, -, D, S, Y, S, S, ...</td>\n",
       "      <td>[P, Y, D, G, S, L, K, Y, I, V, D, L, K, G, E, ...</td>\n",
       "      <td>[[C, H], [A, F], [F, I], [N, L]]</td>\n",
       "      <td>[L, -, -, -, V, -]</td>\n",
       "      <td>[[G, Y], [N, G], [N, Q], [G, L], [N, -], [F, V...</td>\n",
       "      <td>1</td>\n",
       "    </tr>\n",
       "    <tr>\n",
       "      <th>tr|A0A0E3HLI0|A0A0E3HLI0_9CAUD</th>\n",
       "      <td>[S, P, Y]</td>\n",
       "      <td>[Y, R, K, A, S, Y, W]</td>\n",
       "      <td>[I, S, D, L, S, R, -, V]</td>\n",
       "      <td>[E, H, K, E, M, M, L, Y, S, H, F, N, A, S, N, P]</td>\n",
       "      <td>[K, N, D, L, S, P]</td>\n",
       "      <td>[F, S, F, Y, V, Y, A, G, A, -, D, S, Y, S, S, ...</td>\n",
       "      <td>[P, Y, D, G, S, L, K, Y, I, V, D, L, K, G, E, ...</td>\n",
       "      <td>[[C, H], [A, Y], [F, I], [N, L]]</td>\n",
       "      <td>[L, -, -, -, V, -]</td>\n",
       "      <td>[[G, Y], [N, G], [N, Q], [G, L], [N, -], [F, I...</td>\n",
       "      <td>1</td>\n",
       "    </tr>\n",
       "    <tr>\n",
       "      <th>tr|A0A249XWF2|A0A249XWF2_9CAUD</th>\n",
       "      <td>[M, P, P]</td>\n",
       "      <td>[Y, Q, K, A, G, Y, W]</td>\n",
       "      <td>[I, S, D, V, N, R, -, F]</td>\n",
       "      <td>[T, K, K, E, L, L, L, Y, K, Y, Y, N, A, A, C, P]</td>\n",
       "      <td>[K, N, D, L, M, P]</td>\n",
       "      <td>[F, T, Y, F, M, Y, P, G, A, -, D, S, Y, S, N, ...</td>\n",
       "      <td>[P, Y, D, G, S, L, K, Y, I, V, D, L, K, G, E, ...</td>\n",
       "      <td>[[V, V], [A, L], [F, V], [N, L]]</td>\n",
       "      <td>[I, -, -, -, V, -]</td>\n",
       "      <td>[[G, Y], [N, G], [N, Q], [G, V], [N, -], [F, V...</td>\n",
       "      <td>1</td>\n",
       "    </tr>\n",
       "  </tbody>\n",
       "</table>\n",
       "</div>"
      ],
      "text/plain": [
       "                                catalytic           dntp_binding  \\\n",
       "tr|A0A2S1GQF7|A0A2S1GQF7_9CAUD  [M, P, P]  [Y, Q, K, A, G, Y, Y]   \n",
       "tr|A0A0M9JDK6|A0A0M9JDK6_9CAUD  [M, P, P]  [Y, Q, K, A, G, Y, Y]   \n",
       "tr|C7BV40|C7BV40_9CAUD          [S, P, Y]  [Y, R, K, A, S, Y, W]   \n",
       "tr|A0A0E3HLI0|A0A0E3HLI0_9CAUD  [S, P, Y]  [Y, R, K, A, S, Y, W]   \n",
       "tr|A0A249XWF2|A0A249XWF2_9CAUD  [M, P, P]  [Y, Q, K, A, G, Y, W]   \n",
       "\n",
       "                                          primer_binding  \\\n",
       "tr|A0A2S1GQF7|A0A2S1GQF7_9CAUD  [V, S, D, V, N, R, -, F]   \n",
       "tr|A0A0M9JDK6|A0A0M9JDK6_9CAUD  [V, S, D, V, N, R, -, F]   \n",
       "tr|C7BV40|C7BV40_9CAUD          [V, S, D, L, S, R, -, V]   \n",
       "tr|A0A0E3HLI0|A0A0E3HLI0_9CAUD  [I, S, D, L, S, R, -, V]   \n",
       "tr|A0A249XWF2|A0A249XWF2_9CAUD  [I, S, D, V, N, R, -, F]   \n",
       "\n",
       "                                                                     exonuclease  \\\n",
       "tr|A0A2S1GQF7|A0A2S1GQF7_9CAUD  [A, Q, K, E, M, L, L, Y, K, Y, Y, N, A, G, C, P]   \n",
       "tr|A0A0M9JDK6|A0A0M9JDK6_9CAUD  [A, Q, K, E, M, L, L, Y, K, Y, Y, N, A, G, C, P]   \n",
       "tr|C7BV40|C7BV40_9CAUD          [E, H, K, E, M, L, L, Y, E, H, F, N, A, S, N, P]   \n",
       "tr|A0A0E3HLI0|A0A0E3HLI0_9CAUD  [E, H, K, E, M, M, L, Y, S, H, F, N, A, S, N, P]   \n",
       "tr|A0A249XWF2|A0A249XWF2_9CAUD  [T, K, K, E, L, L, L, Y, K, Y, Y, N, A, A, C, P]   \n",
       "\n",
       "                                                Mg  \\\n",
       "tr|A0A2S1GQF7|A0A2S1GQF7_9CAUD  [K, N, D, L, M, P]   \n",
       "tr|A0A0M9JDK6|A0A0M9JDK6_9CAUD  [K, N, D, L, M, P]   \n",
       "tr|C7BV40|C7BV40_9CAUD          [K, N, D, L, S, P]   \n",
       "tr|A0A0E3HLI0|A0A0E3HLI0_9CAUD  [K, N, D, L, S, P]   \n",
       "tr|A0A249XWF2|A0A249XWF2_9CAUD  [K, N, D, L, M, P]   \n",
       "\n",
       "                                                             replication_activity  \\\n",
       "tr|A0A2S1GQF7|A0A2S1GQF7_9CAUD  [F, N, Y, F, M, F, P, G, A, -, D, S, Y, S, N, ...   \n",
       "tr|A0A0M9JDK6|A0A0M9JDK6_9CAUD  [F, N, Y, F, M, F, P, G, A, -, D, S, Y, S, N, ...   \n",
       "tr|C7BV40|C7BV40_9CAUD          [F, S, F, Y, V, Y, A, G, A, -, D, S, Y, S, S, ...   \n",
       "tr|A0A0E3HLI0|A0A0E3HLI0_9CAUD  [F, S, F, Y, V, Y, A, G, A, -, D, S, Y, S, S, ...   \n",
       "tr|A0A249XWF2|A0A249XWF2_9CAUD  [F, T, Y, F, M, Y, P, G, A, -, D, S, Y, S, N, ...   \n",
       "\n",
       "                                                                     conservative  \\\n",
       "tr|A0A2S1GQF7|A0A2S1GQF7_9CAUD  [P, Y, D, G, S, L, K, Y, I, V, D, L, K, G, E, ...   \n",
       "tr|A0A0M9JDK6|A0A0M9JDK6_9CAUD  [P, Y, D, G, S, L, K, Y, I, V, D, L, K, G, E, ...   \n",
       "tr|C7BV40|C7BV40_9CAUD          [P, Y, D, G, S, L, K, Y, I, V, D, L, K, G, E, ...   \n",
       "tr|A0A0E3HLI0|A0A0E3HLI0_9CAUD  [P, Y, D, G, S, L, K, Y, I, V, D, L, K, G, E, ...   \n",
       "tr|A0A249XWF2|A0A249XWF2_9CAUD  [P, Y, D, G, S, L, K, Y, I, V, D, L, K, G, E, ...   \n",
       "\n",
       "                                                         ssbonds  \\\n",
       "tr|A0A2S1GQF7|A0A2S1GQF7_9CAUD  [[I, M], [V, L], [F, V], [N, C]]   \n",
       "tr|A0A0M9JDK6|A0A0M9JDK6_9CAUD  [[I, M], [V, L], [F, V], [N, C]]   \n",
       "tr|C7BV40|C7BV40_9CAUD          [[C, H], [A, F], [F, I], [N, L]]   \n",
       "tr|A0A0E3HLI0|A0A0E3HLI0_9CAUD  [[C, H], [A, Y], [F, I], [N, L]]   \n",
       "tr|A0A249XWF2|A0A249XWF2_9CAUD  [[V, V], [A, L], [F, V], [N, L]]   \n",
       "\n",
       "                                           pockets  \\\n",
       "tr|A0A2S1GQF7|A0A2S1GQF7_9CAUD  [I, -, -, -, V, -]   \n",
       "tr|A0A0M9JDK6|A0A0M9JDK6_9CAUD  [I, -, -, -, V, -]   \n",
       "tr|C7BV40|C7BV40_9CAUD          [L, -, -, -, V, -]   \n",
       "tr|A0A0E3HLI0|A0A0E3HLI0_9CAUD  [L, -, -, -, V, -]   \n",
       "tr|A0A249XWF2|A0A249XWF2_9CAUD  [I, -, -, -, V, -]   \n",
       "\n",
       "                                                                      coevolution  \\\n",
       "tr|A0A2S1GQF7|A0A2S1GQF7_9CAUD  [[G, Y], [N, G], [N, Q], [G, V], [N, -], [F, V...   \n",
       "tr|A0A0M9JDK6|A0A0M9JDK6_9CAUD  [[G, Y], [N, G], [N, Q], [G, V], [N, -], [F, V...   \n",
       "tr|C7BV40|C7BV40_9CAUD          [[G, Y], [N, G], [N, Q], [G, L], [N, -], [F, V...   \n",
       "tr|A0A0E3HLI0|A0A0E3HLI0_9CAUD  [[G, Y], [N, G], [N, Q], [G, L], [N, -], [F, I...   \n",
       "tr|A0A249XWF2|A0A249XWF2_9CAUD  [[G, Y], [N, G], [N, Q], [G, V], [N, -], [F, V...   \n",
       "\n",
       "                                target  \n",
       "tr|A0A2S1GQF7|A0A2S1GQF7_9CAUD       1  \n",
       "tr|A0A0M9JDK6|A0A0M9JDK6_9CAUD       1  \n",
       "tr|C7BV40|C7BV40_9CAUD               1  \n",
       "tr|A0A0E3HLI0|A0A0E3HLI0_9CAUD       1  \n",
       "tr|A0A249XWF2|A0A249XWF2_9CAUD       1  "
      ]
     },
     "execution_count": 6,
     "metadata": {},
     "output_type": "execute_result"
    }
   ],
   "source": [
    "f29.head()"
   ]
  },
  {
   "cell_type": "code",
   "execution_count": 7,
   "metadata": {
    "ExecuteTime": {
     "end_time": "2020-12-06T06:57:33.083175Z",
     "start_time": "2020-12-06T06:57:33.060715Z"
    }
   },
   "outputs": [],
   "source": [
    "f29 = f29.drop(columns=[\"coevolution\"])\n",
    "f29.ssbonds = f29.ssbonds.apply(make_binary_disulf)"
   ]
  },
  {
   "cell_type": "code",
   "execution_count": 8,
   "metadata": {
    "ExecuteTime": {
     "end_time": "2020-12-06T06:57:33.096944Z",
     "start_time": "2020-12-06T06:57:33.089610Z"
    }
   },
   "outputs": [],
   "source": [
    "new_colnames = [] \n",
    "counter = 0\n",
    "for i, j in zip(f29.columns[:-1], f29.iloc[0, :]):\n",
    "    for k in range(len(j)):\n",
    "        new_colnames.append(str(counter)+'_'+i+'_'+str(k))\n",
    "        counter += 1\n",
    "        \n"
   ]
  },
  {
   "cell_type": "code",
   "execution_count": 9,
   "metadata": {
    "ExecuteTime": {
     "end_time": "2020-12-06T06:57:33.182115Z",
     "start_time": "2020-12-06T06:57:33.101795Z"
    }
   },
   "outputs": [],
   "source": [
    "#make labels \n",
    "f29_label = pd.DataFrame()\n",
    "for i in f29.columns: \n",
    "    f29_label = pd.concat([f29_label, pd.DataFrame(f29[i].tolist(), index= f29.index)], axis = 1)\n",
    "\n",
    "f29_label.columns = new_colnames + [\"target\"] "
   ]
  },
  {
   "cell_type": "code",
   "execution_count": 10,
   "metadata": {
    "ExecuteTime": {
     "end_time": "2020-12-06T06:57:33.226263Z",
     "start_time": "2020-12-06T06:57:33.184695Z"
    },
    "scrolled": true
   },
   "outputs": [
    {
     "data": {
      "text/html": [
       "<div>\n",
       "<style scoped>\n",
       "    .dataframe tbody tr th:only-of-type {\n",
       "        vertical-align: middle;\n",
       "    }\n",
       "\n",
       "    .dataframe tbody tr th {\n",
       "        vertical-align: top;\n",
       "    }\n",
       "\n",
       "    .dataframe thead th {\n",
       "        text-align: right;\n",
       "    }\n",
       "</style>\n",
       "<table border=\"1\" class=\"dataframe\">\n",
       "  <thead>\n",
       "    <tr style=\"text-align: right;\">\n",
       "      <th></th>\n",
       "      <th>0_catalytic_0</th>\n",
       "      <th>1_catalytic_1</th>\n",
       "      <th>2_catalytic_2</th>\n",
       "      <th>3_dntp_binding_0</th>\n",
       "      <th>4_dntp_binding_1</th>\n",
       "      <th>5_dntp_binding_2</th>\n",
       "      <th>6_dntp_binding_3</th>\n",
       "      <th>7_dntp_binding_4</th>\n",
       "      <th>8_dntp_binding_5</th>\n",
       "      <th>9_dntp_binding_6</th>\n",
       "      <th>...</th>\n",
       "      <th>96_ssbonds_1</th>\n",
       "      <th>97_ssbonds_2</th>\n",
       "      <th>98_ssbonds_3</th>\n",
       "      <th>99_pockets_0</th>\n",
       "      <th>100_pockets_1</th>\n",
       "      <th>101_pockets_2</th>\n",
       "      <th>102_pockets_3</th>\n",
       "      <th>103_pockets_4</th>\n",
       "      <th>104_pockets_5</th>\n",
       "      <th>target</th>\n",
       "    </tr>\n",
       "  </thead>\n",
       "  <tbody>\n",
       "    <tr>\n",
       "      <th>tr|A0A2S1GQF7|A0A2S1GQF7_9CAUD</th>\n",
       "      <td>M</td>\n",
       "      <td>P</td>\n",
       "      <td>P</td>\n",
       "      <td>Y</td>\n",
       "      <td>Q</td>\n",
       "      <td>K</td>\n",
       "      <td>A</td>\n",
       "      <td>G</td>\n",
       "      <td>Y</td>\n",
       "      <td>Y</td>\n",
       "      <td>...</td>\n",
       "      <td>0</td>\n",
       "      <td>0</td>\n",
       "      <td>0</td>\n",
       "      <td>I</td>\n",
       "      <td>-</td>\n",
       "      <td>-</td>\n",
       "      <td>-</td>\n",
       "      <td>V</td>\n",
       "      <td>-</td>\n",
       "      <td>1</td>\n",
       "    </tr>\n",
       "    <tr>\n",
       "      <th>tr|A0A0M9JDK6|A0A0M9JDK6_9CAUD</th>\n",
       "      <td>M</td>\n",
       "      <td>P</td>\n",
       "      <td>P</td>\n",
       "      <td>Y</td>\n",
       "      <td>Q</td>\n",
       "      <td>K</td>\n",
       "      <td>A</td>\n",
       "      <td>G</td>\n",
       "      <td>Y</td>\n",
       "      <td>Y</td>\n",
       "      <td>...</td>\n",
       "      <td>0</td>\n",
       "      <td>0</td>\n",
       "      <td>0</td>\n",
       "      <td>I</td>\n",
       "      <td>-</td>\n",
       "      <td>-</td>\n",
       "      <td>-</td>\n",
       "      <td>V</td>\n",
       "      <td>-</td>\n",
       "      <td>1</td>\n",
       "    </tr>\n",
       "    <tr>\n",
       "      <th>tr|C7BV40|C7BV40_9CAUD</th>\n",
       "      <td>S</td>\n",
       "      <td>P</td>\n",
       "      <td>Y</td>\n",
       "      <td>Y</td>\n",
       "      <td>R</td>\n",
       "      <td>K</td>\n",
       "      <td>A</td>\n",
       "      <td>S</td>\n",
       "      <td>Y</td>\n",
       "      <td>W</td>\n",
       "      <td>...</td>\n",
       "      <td>0</td>\n",
       "      <td>0</td>\n",
       "      <td>0</td>\n",
       "      <td>L</td>\n",
       "      <td>-</td>\n",
       "      <td>-</td>\n",
       "      <td>-</td>\n",
       "      <td>V</td>\n",
       "      <td>-</td>\n",
       "      <td>1</td>\n",
       "    </tr>\n",
       "    <tr>\n",
       "      <th>tr|A0A0E3HLI0|A0A0E3HLI0_9CAUD</th>\n",
       "      <td>S</td>\n",
       "      <td>P</td>\n",
       "      <td>Y</td>\n",
       "      <td>Y</td>\n",
       "      <td>R</td>\n",
       "      <td>K</td>\n",
       "      <td>A</td>\n",
       "      <td>S</td>\n",
       "      <td>Y</td>\n",
       "      <td>W</td>\n",
       "      <td>...</td>\n",
       "      <td>0</td>\n",
       "      <td>0</td>\n",
       "      <td>0</td>\n",
       "      <td>L</td>\n",
       "      <td>-</td>\n",
       "      <td>-</td>\n",
       "      <td>-</td>\n",
       "      <td>V</td>\n",
       "      <td>-</td>\n",
       "      <td>1</td>\n",
       "    </tr>\n",
       "    <tr>\n",
       "      <th>tr|A0A249XWF2|A0A249XWF2_9CAUD</th>\n",
       "      <td>M</td>\n",
       "      <td>P</td>\n",
       "      <td>P</td>\n",
       "      <td>Y</td>\n",
       "      <td>Q</td>\n",
       "      <td>K</td>\n",
       "      <td>A</td>\n",
       "      <td>G</td>\n",
       "      <td>Y</td>\n",
       "      <td>W</td>\n",
       "      <td>...</td>\n",
       "      <td>0</td>\n",
       "      <td>0</td>\n",
       "      <td>0</td>\n",
       "      <td>I</td>\n",
       "      <td>-</td>\n",
       "      <td>-</td>\n",
       "      <td>-</td>\n",
       "      <td>V</td>\n",
       "      <td>-</td>\n",
       "      <td>1</td>\n",
       "    </tr>\n",
       "    <tr>\n",
       "      <th>...</th>\n",
       "      <td>...</td>\n",
       "      <td>...</td>\n",
       "      <td>...</td>\n",
       "      <td>...</td>\n",
       "      <td>...</td>\n",
       "      <td>...</td>\n",
       "      <td>...</td>\n",
       "      <td>...</td>\n",
       "      <td>...</td>\n",
       "      <td>...</td>\n",
       "      <td>...</td>\n",
       "      <td>...</td>\n",
       "      <td>...</td>\n",
       "      <td>...</td>\n",
       "      <td>...</td>\n",
       "      <td>...</td>\n",
       "      <td>...</td>\n",
       "      <td>...</td>\n",
       "      <td>...</td>\n",
       "      <td>...</td>\n",
       "      <td>...</td>\n",
       "    </tr>\n",
       "    <tr>\n",
       "      <th>tr|G9I044|G9I044_HZNV2</th>\n",
       "      <td>A</td>\n",
       "      <td>G</td>\n",
       "      <td>V</td>\n",
       "      <td>Y</td>\n",
       "      <td>K</td>\n",
       "      <td>K</td>\n",
       "      <td>K</td>\n",
       "      <td>S</td>\n",
       "      <td>Y</td>\n",
       "      <td>I</td>\n",
       "      <td>...</td>\n",
       "      <td>0</td>\n",
       "      <td>0</td>\n",
       "      <td>0</td>\n",
       "      <td>L</td>\n",
       "      <td>-</td>\n",
       "      <td>-</td>\n",
       "      <td>-</td>\n",
       "      <td>N</td>\n",
       "      <td>-</td>\n",
       "      <td>0</td>\n",
       "    </tr>\n",
       "    <tr>\n",
       "      <th>tr|A0A2Z4H5C0|A0A2Z4H5C0_HHV1</th>\n",
       "      <td>F</td>\n",
       "      <td>A</td>\n",
       "      <td>G</td>\n",
       "      <td>L</td>\n",
       "      <td>R</td>\n",
       "      <td>G</td>\n",
       "      <td>I</td>\n",
       "      <td>T</td>\n",
       "      <td>S</td>\n",
       "      <td>L</td>\n",
       "      <td>...</td>\n",
       "      <td>0</td>\n",
       "      <td>0</td>\n",
       "      <td>0</td>\n",
       "      <td>G</td>\n",
       "      <td>H</td>\n",
       "      <td>L</td>\n",
       "      <td>L</td>\n",
       "      <td>S</td>\n",
       "      <td>L</td>\n",
       "      <td>0</td>\n",
       "    </tr>\n",
       "    <tr>\n",
       "      <th>tr|D7F5T1|D7F5T1_9ABAC</th>\n",
       "      <td>E</td>\n",
       "      <td>L</td>\n",
       "      <td>-</td>\n",
       "      <td>N</td>\n",
       "      <td>L</td>\n",
       "      <td>E</td>\n",
       "      <td>Y</td>\n",
       "      <td>L</td>\n",
       "      <td>L</td>\n",
       "      <td>N</td>\n",
       "      <td>...</td>\n",
       "      <td>0</td>\n",
       "      <td>0</td>\n",
       "      <td>0</td>\n",
       "      <td>F</td>\n",
       "      <td>-</td>\n",
       "      <td>-</td>\n",
       "      <td>-</td>\n",
       "      <td>T</td>\n",
       "      <td>-</td>\n",
       "      <td>0</td>\n",
       "    </tr>\n",
       "    <tr>\n",
       "      <th>tr|A0A4Y5QKF2|A0A4Y5QKF2_HHV2</th>\n",
       "      <td>F</td>\n",
       "      <td>A</td>\n",
       "      <td>P</td>\n",
       "      <td>L</td>\n",
       "      <td>R</td>\n",
       "      <td>G</td>\n",
       "      <td>I</td>\n",
       "      <td>T</td>\n",
       "      <td>S</td>\n",
       "      <td>L</td>\n",
       "      <td>...</td>\n",
       "      <td>0</td>\n",
       "      <td>0</td>\n",
       "      <td>0</td>\n",
       "      <td>G</td>\n",
       "      <td>H</td>\n",
       "      <td>L</td>\n",
       "      <td>L</td>\n",
       "      <td>S</td>\n",
       "      <td>L</td>\n",
       "      <td>0</td>\n",
       "    </tr>\n",
       "    <tr>\n",
       "      <th>tr|A0A4Y5QLH3|A0A4Y5QLH3_HHV2</th>\n",
       "      <td>E</td>\n",
       "      <td>K</td>\n",
       "      <td>R</td>\n",
       "      <td>L</td>\n",
       "      <td>D</td>\n",
       "      <td>-</td>\n",
       "      <td>L</td>\n",
       "      <td>T</td>\n",
       "      <td>Y</td>\n",
       "      <td>V</td>\n",
       "      <td>...</td>\n",
       "      <td>0</td>\n",
       "      <td>0</td>\n",
       "      <td>0</td>\n",
       "      <td>L</td>\n",
       "      <td>-</td>\n",
       "      <td>-</td>\n",
       "      <td>-</td>\n",
       "      <td>S</td>\n",
       "      <td>-</td>\n",
       "      <td>0</td>\n",
       "    </tr>\n",
       "  </tbody>\n",
       "</table>\n",
       "<p>2185 rows × 106 columns</p>\n",
       "</div>"
      ],
      "text/plain": [
       "                               0_catalytic_0 1_catalytic_1 2_catalytic_2  \\\n",
       "tr|A0A2S1GQF7|A0A2S1GQF7_9CAUD             M             P             P   \n",
       "tr|A0A0M9JDK6|A0A0M9JDK6_9CAUD             M             P             P   \n",
       "tr|C7BV40|C7BV40_9CAUD                     S             P             Y   \n",
       "tr|A0A0E3HLI0|A0A0E3HLI0_9CAUD             S             P             Y   \n",
       "tr|A0A249XWF2|A0A249XWF2_9CAUD             M             P             P   \n",
       "...                                      ...           ...           ...   \n",
       "tr|G9I044|G9I044_HZNV2                     A             G             V   \n",
       "tr|A0A2Z4H5C0|A0A2Z4H5C0_HHV1              F             A             G   \n",
       "tr|D7F5T1|D7F5T1_9ABAC                     E             L             -   \n",
       "tr|A0A4Y5QKF2|A0A4Y5QKF2_HHV2              F             A             P   \n",
       "tr|A0A4Y5QLH3|A0A4Y5QLH3_HHV2              E             K             R   \n",
       "\n",
       "                               3_dntp_binding_0 4_dntp_binding_1  \\\n",
       "tr|A0A2S1GQF7|A0A2S1GQF7_9CAUD                Y                Q   \n",
       "tr|A0A0M9JDK6|A0A0M9JDK6_9CAUD                Y                Q   \n",
       "tr|C7BV40|C7BV40_9CAUD                        Y                R   \n",
       "tr|A0A0E3HLI0|A0A0E3HLI0_9CAUD                Y                R   \n",
       "tr|A0A249XWF2|A0A249XWF2_9CAUD                Y                Q   \n",
       "...                                         ...              ...   \n",
       "tr|G9I044|G9I044_HZNV2                        Y                K   \n",
       "tr|A0A2Z4H5C0|A0A2Z4H5C0_HHV1                 L                R   \n",
       "tr|D7F5T1|D7F5T1_9ABAC                        N                L   \n",
       "tr|A0A4Y5QKF2|A0A4Y5QKF2_HHV2                 L                R   \n",
       "tr|A0A4Y5QLH3|A0A4Y5QLH3_HHV2                 L                D   \n",
       "\n",
       "                               5_dntp_binding_2 6_dntp_binding_3  \\\n",
       "tr|A0A2S1GQF7|A0A2S1GQF7_9CAUD                K                A   \n",
       "tr|A0A0M9JDK6|A0A0M9JDK6_9CAUD                K                A   \n",
       "tr|C7BV40|C7BV40_9CAUD                        K                A   \n",
       "tr|A0A0E3HLI0|A0A0E3HLI0_9CAUD                K                A   \n",
       "tr|A0A249XWF2|A0A249XWF2_9CAUD                K                A   \n",
       "...                                         ...              ...   \n",
       "tr|G9I044|G9I044_HZNV2                        K                K   \n",
       "tr|A0A2Z4H5C0|A0A2Z4H5C0_HHV1                 G                I   \n",
       "tr|D7F5T1|D7F5T1_9ABAC                        E                Y   \n",
       "tr|A0A4Y5QKF2|A0A4Y5QKF2_HHV2                 G                I   \n",
       "tr|A0A4Y5QLH3|A0A4Y5QLH3_HHV2                 -                L   \n",
       "\n",
       "                               7_dntp_binding_4 8_dntp_binding_5  \\\n",
       "tr|A0A2S1GQF7|A0A2S1GQF7_9CAUD                G                Y   \n",
       "tr|A0A0M9JDK6|A0A0M9JDK6_9CAUD                G                Y   \n",
       "tr|C7BV40|C7BV40_9CAUD                        S                Y   \n",
       "tr|A0A0E3HLI0|A0A0E3HLI0_9CAUD                S                Y   \n",
       "tr|A0A249XWF2|A0A249XWF2_9CAUD                G                Y   \n",
       "...                                         ...              ...   \n",
       "tr|G9I044|G9I044_HZNV2                        S                Y   \n",
       "tr|A0A2Z4H5C0|A0A2Z4H5C0_HHV1                 T                S   \n",
       "tr|D7F5T1|D7F5T1_9ABAC                        L                L   \n",
       "tr|A0A4Y5QKF2|A0A4Y5QKF2_HHV2                 T                S   \n",
       "tr|A0A4Y5QLH3|A0A4Y5QLH3_HHV2                 T                Y   \n",
       "\n",
       "                               9_dntp_binding_6  ... 96_ssbonds_1  \\\n",
       "tr|A0A2S1GQF7|A0A2S1GQF7_9CAUD                Y  ...            0   \n",
       "tr|A0A0M9JDK6|A0A0M9JDK6_9CAUD                Y  ...            0   \n",
       "tr|C7BV40|C7BV40_9CAUD                        W  ...            0   \n",
       "tr|A0A0E3HLI0|A0A0E3HLI0_9CAUD                W  ...            0   \n",
       "tr|A0A249XWF2|A0A249XWF2_9CAUD                W  ...            0   \n",
       "...                                         ...  ...          ...   \n",
       "tr|G9I044|G9I044_HZNV2                        I  ...            0   \n",
       "tr|A0A2Z4H5C0|A0A2Z4H5C0_HHV1                 L  ...            0   \n",
       "tr|D7F5T1|D7F5T1_9ABAC                        N  ...            0   \n",
       "tr|A0A4Y5QKF2|A0A4Y5QKF2_HHV2                 L  ...            0   \n",
       "tr|A0A4Y5QLH3|A0A4Y5QLH3_HHV2                 V  ...            0   \n",
       "\n",
       "                               97_ssbonds_2 98_ssbonds_3 99_pockets_0  \\\n",
       "tr|A0A2S1GQF7|A0A2S1GQF7_9CAUD            0            0            I   \n",
       "tr|A0A0M9JDK6|A0A0M9JDK6_9CAUD            0            0            I   \n",
       "tr|C7BV40|C7BV40_9CAUD                    0            0            L   \n",
       "tr|A0A0E3HLI0|A0A0E3HLI0_9CAUD            0            0            L   \n",
       "tr|A0A249XWF2|A0A249XWF2_9CAUD            0            0            I   \n",
       "...                                     ...          ...          ...   \n",
       "tr|G9I044|G9I044_HZNV2                    0            0            L   \n",
       "tr|A0A2Z4H5C0|A0A2Z4H5C0_HHV1             0            0            G   \n",
       "tr|D7F5T1|D7F5T1_9ABAC                    0            0            F   \n",
       "tr|A0A4Y5QKF2|A0A4Y5QKF2_HHV2             0            0            G   \n",
       "tr|A0A4Y5QLH3|A0A4Y5QLH3_HHV2             0            0            L   \n",
       "\n",
       "                               100_pockets_1 101_pockets_2 102_pockets_3  \\\n",
       "tr|A0A2S1GQF7|A0A2S1GQF7_9CAUD             -             -             -   \n",
       "tr|A0A0M9JDK6|A0A0M9JDK6_9CAUD             -             -             -   \n",
       "tr|C7BV40|C7BV40_9CAUD                     -             -             -   \n",
       "tr|A0A0E3HLI0|A0A0E3HLI0_9CAUD             -             -             -   \n",
       "tr|A0A249XWF2|A0A249XWF2_9CAUD             -             -             -   \n",
       "...                                      ...           ...           ...   \n",
       "tr|G9I044|G9I044_HZNV2                     -             -             -   \n",
       "tr|A0A2Z4H5C0|A0A2Z4H5C0_HHV1              H             L             L   \n",
       "tr|D7F5T1|D7F5T1_9ABAC                     -             -             -   \n",
       "tr|A0A4Y5QKF2|A0A4Y5QKF2_HHV2              H             L             L   \n",
       "tr|A0A4Y5QLH3|A0A4Y5QLH3_HHV2              -             -             -   \n",
       "\n",
       "                               103_pockets_4 104_pockets_5 target  \n",
       "tr|A0A2S1GQF7|A0A2S1GQF7_9CAUD             V             -      1  \n",
       "tr|A0A0M9JDK6|A0A0M9JDK6_9CAUD             V             -      1  \n",
       "tr|C7BV40|C7BV40_9CAUD                     V             -      1  \n",
       "tr|A0A0E3HLI0|A0A0E3HLI0_9CAUD             V             -      1  \n",
       "tr|A0A249XWF2|A0A249XWF2_9CAUD             V             -      1  \n",
       "...                                      ...           ...    ...  \n",
       "tr|G9I044|G9I044_HZNV2                     N             -      0  \n",
       "tr|A0A2Z4H5C0|A0A2Z4H5C0_HHV1              S             L      0  \n",
       "tr|D7F5T1|D7F5T1_9ABAC                     T             -      0  \n",
       "tr|A0A4Y5QKF2|A0A4Y5QKF2_HHV2              S             L      0  \n",
       "tr|A0A4Y5QLH3|A0A4Y5QLH3_HHV2              S             -      0  \n",
       "\n",
       "[2185 rows x 106 columns]"
      ]
     },
     "execution_count": 10,
     "metadata": {},
     "output_type": "execute_result"
    }
   ],
   "source": [
    "f29_label"
   ]
  },
  {
   "cell_type": "code",
   "execution_count": 11,
   "metadata": {
    "ExecuteTime": {
     "end_time": "2020-12-06T06:57:33.712214Z",
     "start_time": "2020-12-06T06:57:33.694778Z"
    }
   },
   "outputs": [],
   "source": [
    "# choose for validation \n",
    "x_train, x_val, y_train, y_val = train_test_split(f29_label.drop(\"target\",\n",
    "                                                            axis=1),\n",
    "                                                    f29_label['target'],\n",
    "                                                    test_size=0.2,\n",
    "                                                    random_state=42)\n",
    "x_train.reset_index(drop=True,inplace = True)  \n",
    "x_val.reset_index(drop=True,inplace = True)  \n",
    "y_train.reset_index(drop=True,inplace = True)  \n",
    "y_val.reset_index(drop=True,inplace = True)  "
   ]
  },
  {
   "cell_type": "code",
   "execution_count": 12,
   "metadata": {
    "ExecuteTime": {
     "end_time": "2020-12-06T06:57:33.788796Z",
     "start_time": "2020-12-06T06:57:33.768362Z"
    }
   },
   "outputs": [],
   "source": [
    "# choose for test/train\n",
    "x_train, x_test, y_train, y_test = train_test_split(f29_label.drop(\"target\",\n",
    "                                                            axis=1),\n",
    "                                                    f29_label['target'],\n",
    "                                                    test_size=0.2,\n",
    "                                                    \n",
    "                                                    random_state=42)\n",
    "x_train.reset_index(drop=True,inplace = True)  \n",
    "x_test.reset_index(drop=True,inplace = True)  \n",
    "y_train.reset_index(drop=True,inplace = True)  \n",
    "y_test.reset_index(drop=True,inplace = True)  "
   ]
  },
  {
   "cell_type": "code",
   "execution_count": 13,
   "metadata": {
    "ExecuteTime": {
     "end_time": "2020-12-06T06:57:34.421471Z",
     "start_time": "2020-12-06T06:57:34.332739Z"
    }
   },
   "outputs": [
    {
     "data": {
      "text/html": [
       "<div>\n",
       "<style scoped>\n",
       "    .dataframe tbody tr th:only-of-type {\n",
       "        vertical-align: middle;\n",
       "    }\n",
       "\n",
       "    .dataframe tbody tr th {\n",
       "        vertical-align: top;\n",
       "    }\n",
       "\n",
       "    .dataframe thead th {\n",
       "        text-align: right;\n",
       "    }\n",
       "</style>\n",
       "<table border=\"1\" class=\"dataframe\">\n",
       "  <thead>\n",
       "    <tr style=\"text-align: right;\">\n",
       "      <th></th>\n",
       "      <th>0_catalytic_0</th>\n",
       "      <th>1_catalytic_1</th>\n",
       "      <th>2_catalytic_2</th>\n",
       "      <th>3_dntp_binding_0</th>\n",
       "      <th>4_dntp_binding_1</th>\n",
       "      <th>5_dntp_binding_2</th>\n",
       "      <th>6_dntp_binding_3</th>\n",
       "      <th>7_dntp_binding_4</th>\n",
       "      <th>8_dntp_binding_5</th>\n",
       "      <th>9_dntp_binding_6</th>\n",
       "      <th>...</th>\n",
       "      <th>95_ssbonds_0</th>\n",
       "      <th>96_ssbonds_1</th>\n",
       "      <th>97_ssbonds_2</th>\n",
       "      <th>98_ssbonds_3</th>\n",
       "      <th>99_pockets_0</th>\n",
       "      <th>100_pockets_1</th>\n",
       "      <th>101_pockets_2</th>\n",
       "      <th>102_pockets_3</th>\n",
       "      <th>103_pockets_4</th>\n",
       "      <th>104_pockets_5</th>\n",
       "    </tr>\n",
       "  </thead>\n",
       "  <tbody>\n",
       "    <tr>\n",
       "      <th>0</th>\n",
       "      <td>Q</td>\n",
       "      <td>D</td>\n",
       "      <td>G</td>\n",
       "      <td>Y</td>\n",
       "      <td>E</td>\n",
       "      <td>Y</td>\n",
       "      <td>Y</td>\n",
       "      <td>G</td>\n",
       "      <td>M</td>\n",
       "      <td>W</td>\n",
       "      <td>...</td>\n",
       "      <td>0</td>\n",
       "      <td>0</td>\n",
       "      <td>0</td>\n",
       "      <td>0</td>\n",
       "      <td>L</td>\n",
       "      <td>-</td>\n",
       "      <td>-</td>\n",
       "      <td>-</td>\n",
       "      <td>V</td>\n",
       "      <td>-</td>\n",
       "    </tr>\n",
       "    <tr>\n",
       "      <th>1</th>\n",
       "      <td>S</td>\n",
       "      <td>P</td>\n",
       "      <td>Y</td>\n",
       "      <td>Y</td>\n",
       "      <td>K</td>\n",
       "      <td>H</td>\n",
       "      <td>A</td>\n",
       "      <td>G</td>\n",
       "      <td>Y</td>\n",
       "      <td>Y</td>\n",
       "      <td>...</td>\n",
       "      <td>0</td>\n",
       "      <td>0</td>\n",
       "      <td>0</td>\n",
       "      <td>0</td>\n",
       "      <td>L</td>\n",
       "      <td>-</td>\n",
       "      <td>-</td>\n",
       "      <td>-</td>\n",
       "      <td>V</td>\n",
       "      <td>-</td>\n",
       "    </tr>\n",
       "    <tr>\n",
       "      <th>2</th>\n",
       "      <td>-</td>\n",
       "      <td>S</td>\n",
       "      <td>E</td>\n",
       "      <td>Y</td>\n",
       "      <td>N</td>\n",
       "      <td>K</td>\n",
       "      <td>Y</td>\n",
       "      <td>G</td>\n",
       "      <td>F</td>\n",
       "      <td>S</td>\n",
       "      <td>...</td>\n",
       "      <td>0</td>\n",
       "      <td>0</td>\n",
       "      <td>0</td>\n",
       "      <td>0</td>\n",
       "      <td>I</td>\n",
       "      <td>-</td>\n",
       "      <td>-</td>\n",
       "      <td>-</td>\n",
       "      <td>V</td>\n",
       "      <td>-</td>\n",
       "    </tr>\n",
       "    <tr>\n",
       "      <th>3</th>\n",
       "      <td>A</td>\n",
       "      <td>R</td>\n",
       "      <td>P</td>\n",
       "      <td>Y</td>\n",
       "      <td>L</td>\n",
       "      <td>Y</td>\n",
       "      <td>Y</td>\n",
       "      <td>G</td>\n",
       "      <td>F</td>\n",
       "      <td>F</td>\n",
       "      <td>...</td>\n",
       "      <td>0</td>\n",
       "      <td>0</td>\n",
       "      <td>0</td>\n",
       "      <td>0</td>\n",
       "      <td>L</td>\n",
       "      <td>-</td>\n",
       "      <td>-</td>\n",
       "      <td>-</td>\n",
       "      <td>V</td>\n",
       "      <td>-</td>\n",
       "    </tr>\n",
       "    <tr>\n",
       "      <th>4</th>\n",
       "      <td>N</td>\n",
       "      <td>A</td>\n",
       "      <td>K</td>\n",
       "      <td>Y</td>\n",
       "      <td>T</td>\n",
       "      <td>L</td>\n",
       "      <td>E</td>\n",
       "      <td>G</td>\n",
       "      <td>Y</td>\n",
       "      <td>E</td>\n",
       "      <td>...</td>\n",
       "      <td>0</td>\n",
       "      <td>0</td>\n",
       "      <td>0</td>\n",
       "      <td>0</td>\n",
       "      <td>A</td>\n",
       "      <td>-</td>\n",
       "      <td>-</td>\n",
       "      <td>-</td>\n",
       "      <td>K</td>\n",
       "      <td>-</td>\n",
       "    </tr>\n",
       "    <tr>\n",
       "      <th>...</th>\n",
       "      <td>...</td>\n",
       "      <td>...</td>\n",
       "      <td>...</td>\n",
       "      <td>...</td>\n",
       "      <td>...</td>\n",
       "      <td>...</td>\n",
       "      <td>...</td>\n",
       "      <td>...</td>\n",
       "      <td>...</td>\n",
       "      <td>...</td>\n",
       "      <td>...</td>\n",
       "      <td>...</td>\n",
       "      <td>...</td>\n",
       "      <td>...</td>\n",
       "      <td>...</td>\n",
       "      <td>...</td>\n",
       "      <td>...</td>\n",
       "      <td>...</td>\n",
       "      <td>...</td>\n",
       "      <td>...</td>\n",
       "      <td>...</td>\n",
       "    </tr>\n",
       "    <tr>\n",
       "      <th>1743</th>\n",
       "      <td>P</td>\n",
       "      <td>G</td>\n",
       "      <td>A</td>\n",
       "      <td>Y</td>\n",
       "      <td>L</td>\n",
       "      <td>E</td>\n",
       "      <td>Y</td>\n",
       "      <td>N</td>\n",
       "      <td>F</td>\n",
       "      <td>T</td>\n",
       "      <td>...</td>\n",
       "      <td>0</td>\n",
       "      <td>0</td>\n",
       "      <td>0</td>\n",
       "      <td>0</td>\n",
       "      <td>F</td>\n",
       "      <td>-</td>\n",
       "      <td>-</td>\n",
       "      <td>-</td>\n",
       "      <td>V</td>\n",
       "      <td>-</td>\n",
       "    </tr>\n",
       "    <tr>\n",
       "      <th>1744</th>\n",
       "      <td>S</td>\n",
       "      <td>D</td>\n",
       "      <td>L</td>\n",
       "      <td>Y</td>\n",
       "      <td>R</td>\n",
       "      <td>F</td>\n",
       "      <td>Y</td>\n",
       "      <td>G</td>\n",
       "      <td>F</td>\n",
       "      <td>F</td>\n",
       "      <td>...</td>\n",
       "      <td>0</td>\n",
       "      <td>0</td>\n",
       "      <td>0</td>\n",
       "      <td>0</td>\n",
       "      <td>L</td>\n",
       "      <td>-</td>\n",
       "      <td>-</td>\n",
       "      <td>I</td>\n",
       "      <td>V</td>\n",
       "      <td>-</td>\n",
       "    </tr>\n",
       "    <tr>\n",
       "      <th>1745</th>\n",
       "      <td>E</td>\n",
       "      <td>V</td>\n",
       "      <td>L</td>\n",
       "      <td>Y</td>\n",
       "      <td>M</td>\n",
       "      <td>Y</td>\n",
       "      <td>Y</td>\n",
       "      <td>G</td>\n",
       "      <td>F</td>\n",
       "      <td>F</td>\n",
       "      <td>...</td>\n",
       "      <td>0</td>\n",
       "      <td>0</td>\n",
       "      <td>0</td>\n",
       "      <td>0</td>\n",
       "      <td>L</td>\n",
       "      <td>-</td>\n",
       "      <td>-</td>\n",
       "      <td>-</td>\n",
       "      <td>V</td>\n",
       "      <td>-</td>\n",
       "    </tr>\n",
       "    <tr>\n",
       "      <th>1746</th>\n",
       "      <td>A</td>\n",
       "      <td>P</td>\n",
       "      <td>T</td>\n",
       "      <td>Y</td>\n",
       "      <td>L</td>\n",
       "      <td>V</td>\n",
       "      <td>N</td>\n",
       "      <td>P</td>\n",
       "      <td>Y</td>\n",
       "      <td>Y</td>\n",
       "      <td>...</td>\n",
       "      <td>0</td>\n",
       "      <td>0</td>\n",
       "      <td>0</td>\n",
       "      <td>0</td>\n",
       "      <td>I</td>\n",
       "      <td>-</td>\n",
       "      <td>-</td>\n",
       "      <td>-</td>\n",
       "      <td>V</td>\n",
       "      <td>-</td>\n",
       "    </tr>\n",
       "    <tr>\n",
       "      <th>1747</th>\n",
       "      <td>-</td>\n",
       "      <td>D</td>\n",
       "      <td>L</td>\n",
       "      <td>Y</td>\n",
       "      <td>E</td>\n",
       "      <td>I</td>\n",
       "      <td>Y</td>\n",
       "      <td>G</td>\n",
       "      <td>F</td>\n",
       "      <td>S</td>\n",
       "      <td>...</td>\n",
       "      <td>0</td>\n",
       "      <td>0</td>\n",
       "      <td>0</td>\n",
       "      <td>0</td>\n",
       "      <td>L</td>\n",
       "      <td>-</td>\n",
       "      <td>-</td>\n",
       "      <td>-</td>\n",
       "      <td>V</td>\n",
       "      <td>-</td>\n",
       "    </tr>\n",
       "  </tbody>\n",
       "</table>\n",
       "<p>1748 rows × 105 columns</p>\n",
       "</div>"
      ],
      "text/plain": [
       "     0_catalytic_0 1_catalytic_1 2_catalytic_2 3_dntp_binding_0  \\\n",
       "0                Q             D             G                Y   \n",
       "1                S             P             Y                Y   \n",
       "2                -             S             E                Y   \n",
       "3                A             R             P                Y   \n",
       "4                N             A             K                Y   \n",
       "...            ...           ...           ...              ...   \n",
       "1743             P             G             A                Y   \n",
       "1744             S             D             L                Y   \n",
       "1745             E             V             L                Y   \n",
       "1746             A             P             T                Y   \n",
       "1747             -             D             L                Y   \n",
       "\n",
       "     4_dntp_binding_1 5_dntp_binding_2 6_dntp_binding_3 7_dntp_binding_4  \\\n",
       "0                   E                Y                Y                G   \n",
       "1                   K                H                A                G   \n",
       "2                   N                K                Y                G   \n",
       "3                   L                Y                Y                G   \n",
       "4                   T                L                E                G   \n",
       "...               ...              ...              ...              ...   \n",
       "1743                L                E                Y                N   \n",
       "1744                R                F                Y                G   \n",
       "1745                M                Y                Y                G   \n",
       "1746                L                V                N                P   \n",
       "1747                E                I                Y                G   \n",
       "\n",
       "     8_dntp_binding_5 9_dntp_binding_6  ... 95_ssbonds_0 96_ssbonds_1  \\\n",
       "0                   M                W  ...            0            0   \n",
       "1                   Y                Y  ...            0            0   \n",
       "2                   F                S  ...            0            0   \n",
       "3                   F                F  ...            0            0   \n",
       "4                   Y                E  ...            0            0   \n",
       "...               ...              ...  ...          ...          ...   \n",
       "1743                F                T  ...            0            0   \n",
       "1744                F                F  ...            0            0   \n",
       "1745                F                F  ...            0            0   \n",
       "1746                Y                Y  ...            0            0   \n",
       "1747                F                S  ...            0            0   \n",
       "\n",
       "     97_ssbonds_2 98_ssbonds_3 99_pockets_0 100_pockets_1 101_pockets_2  \\\n",
       "0               0            0            L             -             -   \n",
       "1               0            0            L             -             -   \n",
       "2               0            0            I             -             -   \n",
       "3               0            0            L             -             -   \n",
       "4               0            0            A             -             -   \n",
       "...           ...          ...          ...           ...           ...   \n",
       "1743            0            0            F             -             -   \n",
       "1744            0            0            L             -             -   \n",
       "1745            0            0            L             -             -   \n",
       "1746            0            0            I             -             -   \n",
       "1747            0            0            L             -             -   \n",
       "\n",
       "     102_pockets_3 103_pockets_4 104_pockets_5  \n",
       "0                -             V             -  \n",
       "1                -             V             -  \n",
       "2                -             V             -  \n",
       "3                -             V             -  \n",
       "4                -             K             -  \n",
       "...            ...           ...           ...  \n",
       "1743             -             V             -  \n",
       "1744             I             V             -  \n",
       "1745             -             V             -  \n",
       "1746             -             V             -  \n",
       "1747             -             V             -  \n",
       "\n",
       "[1748 rows x 105 columns]"
      ]
     },
     "execution_count": 13,
     "metadata": {},
     "output_type": "execute_result"
    }
   ],
   "source": [
    "x_train"
   ]
  },
  {
   "cell_type": "markdown",
   "metadata": {},
   "source": [
    "# Hyperparameters search and feature selection"
   ]
  },
  {
   "cell_type": "code",
   "execution_count": 14,
   "metadata": {
    "ExecuteTime": {
     "end_time": "2020-12-06T06:57:34.987698Z",
     "start_time": "2020-12-06T06:57:34.980623Z"
    }
   },
   "outputs": [],
   "source": [
    "cat_feautures = x_train.columns\n",
    "indexes_of_categories = [x_train.columns.get_loc(col) for col in cat_feautures]"
   ]
  },
  {
   "cell_type": "code",
   "execution_count": 15,
   "metadata": {
    "ExecuteTime": {
     "end_time": "2020-12-06T06:57:35.426980Z",
     "start_time": "2020-12-06T06:57:35.418666Z"
    }
   },
   "outputs": [],
   "source": [
    "params = {\n",
    "    'depth': [1, 4, 7, 10],\n",
    "    'learning_rate': [0.001, 0.01, 0.1, 0.15,0.2,0.5],\n",
    "    'loss_function': ['Logloss', 'CrossEntropy'],\n",
    "    'l2_leaf_reg': np.logspace(0.01, 2, 20),\n",
    "    'leaf_estimation_iterations': [10],\n",
    "    'logging_level': ['Silent'],\n",
    "    'random_seed': [42],\n",
    "    'iterations':[i for i in range(100, 1000, 100)]\n",
    "}"
   ]
  },
  {
   "cell_type": "code",
   "execution_count": 16,
   "metadata": {
    "ExecuteTime": {
     "end_time": "2020-12-06T06:57:35.953482Z",
     "start_time": "2020-12-06T06:57:35.948734Z"
    }
   },
   "outputs": [],
   "source": [
    "clf = cat.CatBoostClassifier(eval_metric=\"F1\",cat_features=indexes_of_categories)"
   ]
  },
  {
   "cell_type": "code",
   "execution_count": null,
   "metadata": {},
   "outputs": [],
   "source": [
    "grid = RandomizedSearchCV(clf,\n",
    "                          params,\n",
    "                          n_jobs=1,\n",
    "                          n_iter=10,\n",
    "                          scoring=\"f1\",\n",
    "                          cv=5, \n",
    "                          verbose= 3)\n",
    "\n",
    "grid.fit(x_train, y_train, cat_features=indexes_of_categories)\n",
    "best_params = grid.best_estimator_.get_params()я"
   ]
  },
  {
   "cell_type": "code",
   "execution_count": 18,
   "metadata": {
    "ExecuteTime": {
     "end_time": "2020-12-06T07:47:42.231993Z",
     "start_time": "2020-12-06T07:47:42.221308Z"
    }
   },
   "outputs": [
    {
     "name": "stdout",
     "output_type": "stream",
     "text": [
      "{'cat_features': [0, 1, 2, 3, 4, 5, 6, 7, 8, 9, 10, 11, 12, 13, 14, 15, 16, 17, 18, 19, 20, 21, 22, 23, 24, 25, 26, 27, 28, 29, 30, 31, 32, 33, 34, 35, 36, 37, 38, 39, 40, 41, 42, 43, 44, 45, 46, 47, 48, 49, 50, 51, 52, 53, 54, 55, 56, 57, 58, 59, 60, 61, 62, 63, 64, 65, 66, 67, 68, 69, 70, 71, 72, 73, 74, 75, 76, 77, 78, 79, 80, 81, 82, 83, 84, 85, 86, 87, 88, 89, 90, 91, 92, 93, 94, 95, 96, 97, 98, 99, 100, 101, 102, 103, 104], 'eval_metric': 'F1', 'random_seed': 42, 'loss_function': 'Logloss', 'logging_level': 'Silent', 'learning_rate': 0.2, 'leaf_estimation_iterations': 10, 'l2_leaf_reg': 2.685019032003968, 'iterations': 700, 'depth': 4}\n"
     ]
    }
   ],
   "source": [
    "print(best_params)"
   ]
  },
  {
   "cell_type": "code",
   "execution_count": 19,
   "metadata": {
    "ExecuteTime": {
     "end_time": "2020-12-06T07:48:34.679822Z",
     "start_time": "2020-12-06T07:47:42.237038Z"
    }
   },
   "outputs": [],
   "source": [
    "clf_cat = cat.CatBoostClassifier(**best_params).fit(x_train, y_train,cat_features=indexes_of_categories)\n",
    "y_pred = clf_cat.predict(x_test)\n",
    "y_pred_proba = clf_cat.predict_proba(x_test)[:,-1]"
   ]
  },
  {
   "cell_type": "code",
   "execution_count": 20,
   "metadata": {
    "ExecuteTime": {
     "end_time": "2020-12-06T07:48:34.704507Z",
     "start_time": "2020-12-06T07:48:34.685333Z"
    }
   },
   "outputs": [
    {
     "name": "stdout",
     "output_type": "stream",
     "text": [
      "              precision    recall  f1-score   support\n",
      "\n",
      "           0       1.00      1.00      1.00       383\n",
      "           1       0.98      1.00      0.99        54\n",
      "\n",
      "    accuracy                           1.00       437\n",
      "   macro avg       0.99      1.00      0.99       437\n",
      "weighted avg       1.00      1.00      1.00       437\n",
      "\n",
      "0.9986945169712793\n"
     ]
    }
   ],
   "source": [
    "print(classification_report(y_test, y_pred))\n",
    "print(roc_auc_score(y_test, y_pred))"
   ]
  },
  {
   "cell_type": "code",
   "execution_count": 21,
   "metadata": {
    "ExecuteTime": {
     "end_time": "2020-12-06T07:48:34.723909Z",
     "start_time": "2020-12-06T07:48:34.710893Z"
    }
   },
   "outputs": [],
   "source": [
    "path = \"models/\"\n",
    "model_name = \"first_model_viral\"\n",
    "clf_cat.save_model(path + \"/\" + model_name)"
   ]
  },
  {
   "cell_type": "code",
   "execution_count": 22,
   "metadata": {
    "ExecuteTime": {
     "end_time": "2020-12-06T07:48:34.749456Z",
     "start_time": "2020-12-06T07:48:34.730526Z"
    }
   },
   "outputs": [],
   "source": [
    "labelsdf = pd.DataFrame()\n",
    "labelsdf['target'] = y_pred\n",
    "labelsdf['proba'] = y_pred_proba"
   ]
  },
  {
   "cell_type": "code",
   "execution_count": 25,
   "metadata": {
    "ExecuteTime": {
     "end_time": "2020-12-06T07:49:19.858070Z",
     "start_time": "2020-12-06T07:49:19.505847Z"
    }
   },
   "outputs": [
    {
     "data": {
      "text/plain": [
       "<matplotlib.axes._subplots.AxesSubplot at 0x12a2590b8>"
      ]
     },
     "execution_count": 25,
     "metadata": {},
     "output_type": "execute_result"
    },
    {
     "data": {
      "image/png": "[encoded data removed]",
      "text/plain": [
       "<Figure size 1080x360 with 1 Axes>"
      ]
     },
     "metadata": {
      "needs_background": "light"
     },
     "output_type": "display_data"
    }
   ],
   "source": [
    "plt.figure(figsize=(15,5))\n",
    "sns.distplot(labelsdf[labelsdf['target']==1]['proba'])\n",
    "\n"
   ]
  },
  {
   "cell_type": "code",
   "execution_count": 26,
   "metadata": {
    "ExecuteTime": {
     "end_time": "2020-12-06T07:49:20.223169Z",
     "start_time": "2020-12-06T07:49:19.862963Z"
    }
   },
   "outputs": [
    {
     "data": {
      "text/plain": [
       "<matplotlib.axes._subplots.AxesSubplot at 0x12a2596d8>"
      ]
     },
     "execution_count": 26,
     "metadata": {},
     "output_type": "execute_result"
    },
    {
     "data": {
      "image/png": "[encoded data removed]",
      "text/plain": [
       "<Figure size 1080x360 with 1 Axes>"
      ]
     },
     "metadata": {
      "needs_background": "light"
     },
     "output_type": "display_data"
    }
   ],
   "source": [
    "plt.figure(figsize=(15,5))\n",
    "sns.distplot(labelsdf[labelsdf['target']==0]['proba'])"
   ]
  },
  {
   "cell_type": "markdown",
   "metadata": {},
   "source": [
    "# evaluate shap_values"
   ]
  },
  {
   "cell_type": "code",
   "execution_count": 27,
   "metadata": {
    "ExecuteTime": {
     "end_time": "2020-12-06T07:49:36.074409Z",
     "start_time": "2020-12-06T07:49:36.066013Z"
    }
   },
   "outputs": [
    {
     "data": {
      "text/plain": [
       "<catboost.core.CatBoostClassifier at 0x12ac63588>"
      ]
     },
     "execution_count": 27,
     "metadata": {},
     "output_type": "execute_result"
    }
   ],
   "source": [
    "clf_cat = cat.CatBoostClassifier() # parameters not required.\n",
    "clf_cat.load_model(path + \"/\" + model_name)\n"
   ]
  },
  {
   "cell_type": "code",
   "execution_count": 28,
   "metadata": {
    "ExecuteTime": {
     "end_time": "2020-12-06T07:49:36.424469Z",
     "start_time": "2020-12-06T07:49:36.203528Z"
    }
   },
   "outputs": [],
   "source": [
    "shap_values = clf_cat.get_feature_importance(cat.Pool(x_test, label=y_test,\n",
    "                                                      cat_features=indexes_of_categories), \n",
    "                                                                     type=\"ShapValues\")\n",
    "\n",
    "expected_value = shap_values[0,-1]\n",
    "shap_values = shap_values[:,:-1]\n",
    "values = np.abs(shap_values).mean(0)"
   ]
  },
  {
   "cell_type": "code",
   "execution_count": 29,
   "metadata": {
    "ExecuteTime": {
     "end_time": "2020-12-06T07:49:36.603621Z",
     "start_time": "2020-12-06T07:49:36.593790Z"
    }
   },
   "outputs": [],
   "source": [
    "report = pd.DataFrame()\n",
    "report['features'] = x_test.columns\n",
    "report['shap_values'] = values"
   ]
  },
  {
   "cell_type": "code",
   "execution_count": 30,
   "metadata": {
    "ExecuteTime": {
     "end_time": "2020-12-06T07:49:37.664052Z",
     "start_time": "2020-12-06T07:49:37.644612Z"
    }
   },
   "outputs": [
    {
     "data": {
      "text/html": [
       "<div>\n",
       "<style scoped>\n",
       "    .dataframe tbody tr th:only-of-type {\n",
       "        vertical-align: middle;\n",
       "    }\n",
       "\n",
       "    .dataframe tbody tr th {\n",
       "        vertical-align: top;\n",
       "    }\n",
       "\n",
       "    .dataframe thead th {\n",
       "        text-align: right;\n",
       "    }\n",
       "</style>\n",
       "<table border=\"1\" class=\"dataframe\">\n",
       "  <thead>\n",
       "    <tr style=\"text-align: right;\">\n",
       "      <th></th>\n",
       "      <th>features</th>\n",
       "      <th>shap_values</th>\n",
       "    </tr>\n",
       "  </thead>\n",
       "  <tbody>\n",
       "    <tr>\n",
       "      <th>104</th>\n",
       "      <td>104_pockets_5</td>\n",
       "      <td>0.000000</td>\n",
       "    </tr>\n",
       "    <tr>\n",
       "      <th>1</th>\n",
       "      <td>1_catalytic_1</td>\n",
       "      <td>0.000000</td>\n",
       "    </tr>\n",
       "    <tr>\n",
       "      <th>81</th>\n",
       "      <td>81_conservative_20</td>\n",
       "      <td>0.000000</td>\n",
       "    </tr>\n",
       "    <tr>\n",
       "      <th>3</th>\n",
       "      <td>3_dntp_binding_0</td>\n",
       "      <td>0.000000</td>\n",
       "    </tr>\n",
       "    <tr>\n",
       "      <th>51</th>\n",
       "      <td>51_replication_activity_11</td>\n",
       "      <td>0.000000</td>\n",
       "    </tr>\n",
       "    <tr>\n",
       "      <th>...</th>\n",
       "      <td>...</td>\n",
       "      <td>...</td>\n",
       "    </tr>\n",
       "    <tr>\n",
       "      <th>27</th>\n",
       "      <td>27_exonuclease_9</td>\n",
       "      <td>0.412569</td>\n",
       "    </tr>\n",
       "    <tr>\n",
       "      <th>93</th>\n",
       "      <td>93_conservative_32</td>\n",
       "      <td>0.622999</td>\n",
       "    </tr>\n",
       "    <tr>\n",
       "      <th>67</th>\n",
       "      <td>67_conservative_6</td>\n",
       "      <td>0.829289</td>\n",
       "    </tr>\n",
       "    <tr>\n",
       "      <th>28</th>\n",
       "      <td>28_exonuclease_10</td>\n",
       "      <td>1.112829</td>\n",
       "    </tr>\n",
       "    <tr>\n",
       "      <th>37</th>\n",
       "      <td>37_Mg_3</td>\n",
       "      <td>1.440717</td>\n",
       "    </tr>\n",
       "  </tbody>\n",
       "</table>\n",
       "<p>105 rows × 2 columns</p>\n",
       "</div>"
      ],
      "text/plain": [
       "                       features  shap_values\n",
       "104               104_pockets_5     0.000000\n",
       "1                 1_catalytic_1     0.000000\n",
       "81           81_conservative_20     0.000000\n",
       "3              3_dntp_binding_0     0.000000\n",
       "51   51_replication_activity_11     0.000000\n",
       "..                          ...          ...\n",
       "27             27_exonuclease_9     0.412569\n",
       "93           93_conservative_32     0.622999\n",
       "67            67_conservative_6     0.829289\n",
       "28            28_exonuclease_10     1.112829\n",
       "37                      37_Mg_3     1.440717\n",
       "\n",
       "[105 rows x 2 columns]"
      ]
     },
     "execution_count": 30,
     "metadata": {},
     "output_type": "execute_result"
    }
   ],
   "source": [
    "report = report.sort_values(by='shap_values')\n",
    "report"
   ]
  },
  {
   "cell_type": "code",
   "execution_count": 31,
   "metadata": {
    "ExecuteTime": {
     "end_time": "2020-12-06T07:49:44.863909Z",
     "start_time": "2020-12-06T07:49:44.645014Z"
    }
   },
   "outputs": [
    {
     "data": {
      "text/plain": [
       "(array([9., 2., 0., 1., 0., 1., 0., 1., 0., 1.]),\n",
       " array([0.20873512, 0.33193332, 0.45513151, 0.57832971, 0.70152791,\n",
       "        0.8247261 , 0.9479243 , 1.07112249, 1.19432069, 1.31751889,\n",
       "        1.44071708]),\n",
       " <a list of 10 Patch objects>)"
      ]
     },
     "execution_count": 31,
     "metadata": {},
     "output_type": "execute_result"
    },
    {
     "data": {
      "image/png": "[encoded data removed]",
      "text/plain": [
       "<Figure size 432x288 with 1 Axes>"
      ]
     },
     "metadata": {
      "needs_background": "light"
     },
     "output_type": "display_data"
    }
   ],
   "source": [
    "plt.hist(report['shap_values'][-15:])"
   ]
  },
  {
   "cell_type": "code",
   "execution_count": 62,
   "metadata": {
    "ExecuteTime": {
     "end_time": "2020-12-06T08:59:12.810470Z",
     "start_time": "2020-12-06T08:59:12.799706Z"
    }
   },
   "outputs": [
    {
     "data": {
      "text/html": [
       "<div>\n",
       "<style scoped>\n",
       "    .dataframe tbody tr th:only-of-type {\n",
       "        vertical-align: middle;\n",
       "    }\n",
       "\n",
       "    .dataframe tbody tr th {\n",
       "        vertical-align: top;\n",
       "    }\n",
       "\n",
       "    .dataframe thead th {\n",
       "        text-align: right;\n",
       "    }\n",
       "</style>\n",
       "<table border=\"1\" class=\"dataframe\">\n",
       "  <thead>\n",
       "    <tr style=\"text-align: right;\">\n",
       "      <th></th>\n",
       "      <th>features</th>\n",
       "      <th>shap_values</th>\n",
       "    </tr>\n",
       "  </thead>\n",
       "  <tbody>\n",
       "    <tr>\n",
       "      <th>5</th>\n",
       "      <td>5_dntp_binding_2</td>\n",
       "      <td>0.208735</td>\n",
       "    </tr>\n",
       "    <tr>\n",
       "      <th>101</th>\n",
       "      <td>101_pockets_2</td>\n",
       "      <td>0.234352</td>\n",
       "    </tr>\n",
       "    <tr>\n",
       "      <th>14</th>\n",
       "      <td>14_primer_binding_4</td>\n",
       "      <td>0.237203</td>\n",
       "    </tr>\n",
       "    <tr>\n",
       "      <th>43</th>\n",
       "      <td>43_replication_activity_3</td>\n",
       "      <td>0.247800</td>\n",
       "    </tr>\n",
       "    <tr>\n",
       "      <th>15</th>\n",
       "      <td>15_primer_binding_5</td>\n",
       "      <td>0.249840</td>\n",
       "    </tr>\n",
       "  </tbody>\n",
       "</table>\n",
       "</div>"
      ],
      "text/plain": [
       "                      features  shap_values\n",
       "5             5_dntp_binding_2     0.208735\n",
       "101              101_pockets_2     0.234352\n",
       "14         14_primer_binding_4     0.237203\n",
       "43   43_replication_activity_3     0.247800\n",
       "15         15_primer_binding_5     0.249840"
      ]
     },
     "execution_count": 62,
     "metadata": {},
     "output_type": "execute_result"
    }
   ],
   "source": [
    "data = report.iloc[-15:,:].copy()\n",
    "data.head()"
   ]
  },
  {
   "cell_type": "code",
   "execution_count": 80,
   "metadata": {
    "ExecuteTime": {
     "end_time": "2020-12-06T09:12:20.181103Z",
     "start_time": "2020-12-06T09:12:20.170412Z"
    }
   },
   "outputs": [],
   "source": [
    "data.to_csv('features_selected_viral.csv',index=False)\n"
   ]
  },
  {
   "cell_type": "code",
   "execution_count": 78,
   "metadata": {
    "ExecuteTime": {
     "end_time": "2020-12-06T09:07:42.272397Z",
     "start_time": "2020-12-06T09:07:40.773319Z"
    }
   },
   "outputs": [
    {
     "data": {
      "image/png": "[encoded data removed]",
      "text/plain": [
       "<Figure size 720x720 with 1 Axes>"
      ]
     },
     "metadata": {
      "needs_background": "light"
     },
     "output_type": "display_data"
    }
   ],
   "source": [
    "plt.figure(figsize=(10,10))\n",
    "a = sns.barplot(x=\"shap_values\", y=\"features\", data=data,color=\"red\", saturation=.5)\n",
    "plt.xticks(size=20, weight='extra bold', )\n",
    "\n",
    "plt.yticks(size=15, weight='extra bold')\n",
    "plt.xlabel('shap_values',size = 15, weight='extra bold') \n",
    "plt.ylabel('Selected features', size=15,  weight='extra bold', labelpad=50)\n",
    "fig = a.get_figure()\n",
    "fig.savefig('selected_features.png', bbox_inches=\"tight\", dpi = 300)"
   ]
  },
  {
   "cell_type": "code",
   "execution_count": 37,
   "metadata": {
    "ExecuteTime": {
     "end_time": "2020-12-06T08:22:31.020368Z",
     "start_time": "2020-12-06T08:22:31.012396Z"
    }
   },
   "outputs": [
    {
     "data": {
      "text/plain": [
       "['5_dntp_binding_2',\n",
       " '101_pockets_2',\n",
       " '14_primer_binding_4',\n",
       " '43_replication_activity_3',\n",
       " '15_primer_binding_5',\n",
       " '8_dntp_binding_5',\n",
       " '90_conservative_29',\n",
       " '66_conservative_5',\n",
       " '70_conservative_9',\n",
       " '39_Mg_5',\n",
       " '27_exonuclease_9',\n",
       " '93_conservative_32',\n",
       " '67_conservative_6',\n",
       " '28_exonuclease_10',\n",
       " '37_Mg_3']"
      ]
     },
     "execution_count": 37,
     "metadata": {},
     "output_type": "execute_result"
    }
   ],
   "source": [
    "selected = report.tail(15)['features'].values.tolist()\n",
    "selected"
   ]
  },
  {
   "cell_type": "code",
   "execution_count": 38,
   "metadata": {
    "ExecuteTime": {
     "end_time": "2020-12-06T08:22:31.647721Z",
     "start_time": "2020-12-06T08:22:31.641459Z"
    }
   },
   "outputs": [],
   "source": [
    "#shap.summary_plot(shap_values, x_test, plot_type=\"bar\")"
   ]
  },
  {
   "cell_type": "markdown",
   "metadata": {},
   "source": [
    "# Short model"
   ]
  },
  {
   "cell_type": "code",
   "execution_count": 39,
   "metadata": {
    "ExecuteTime": {
     "end_time": "2020-12-06T08:22:34.611384Z",
     "start_time": "2020-12-06T08:22:34.601836Z"
    }
   },
   "outputs": [],
   "source": [
    "#selected = selected \n",
    "x_train = x_train[selected]\n",
    "x_val = x_val[selected]"
   ]
  },
  {
   "cell_type": "code",
   "execution_count": 40,
   "metadata": {
    "ExecuteTime": {
     "end_time": "2020-12-06T08:22:36.887680Z",
     "start_time": "2020-12-06T08:22:36.877251Z"
    }
   },
   "outputs": [],
   "source": [
    "cat_feautures = x_train.columns\n",
    "indexes_of_categories = [x_train.columns.get_loc(col) for col in cat_feautures]"
   ]
  },
  {
   "cell_type": "code",
   "execution_count": 41,
   "metadata": {
    "ExecuteTime": {
     "end_time": "2020-12-06T08:22:37.676952Z",
     "start_time": "2020-12-06T08:22:37.671874Z"
    }
   },
   "outputs": [],
   "source": [
    "clf = cat.CatBoostClassifier(eval_metric=\"F1\",cat_features=indexes_of_categories)"
   ]
  },
  {
   "cell_type": "code",
   "execution_count": 42,
   "metadata": {
    "ExecuteTime": {
     "end_time": "2020-12-06T08:46:04.498148Z",
     "start_time": "2020-12-06T08:22:39.817449Z"
    }
   },
   "outputs": [
    {
     "name": "stdout",
     "output_type": "stream",
     "text": [
      "Fitting 5 folds for each of 10 candidates, totalling 50 fits\n",
      "[CV] random_seed=42, loss_function=CrossEntropy, logging_level=Silent, learning_rate=0.15, leaf_estimation_iterations=10, l2_leaf_reg=38.11120070597852, iterations=500, depth=1 \n"
     ]
    },
    {
     "name": "stderr",
     "output_type": "stream",
     "text": [
      "[Parallel(n_jobs=1)]: Using backend SequentialBackend with 1 concurrent workers.\n"
     ]
    },
    {
     "name": "stdout",
     "output_type": "stream",
     "text": [
      "[CV]  random_seed=42, loss_function=CrossEntropy, logging_level=Silent, learning_rate=0.15, leaf_estimation_iterations=10, l2_leaf_reg=38.11120070597852, iterations=500, depth=1, score=0.978, total=  17.6s\n",
      "[CV] random_seed=42, loss_function=CrossEntropy, logging_level=Silent, learning_rate=0.15, leaf_estimation_iterations=10, l2_leaf_reg=38.11120070597852, iterations=500, depth=1 \n"
     ]
    },
    {
     "name": "stderr",
     "output_type": "stream",
     "text": [
      "[Parallel(n_jobs=1)]: Done   1 out of   1 | elapsed:   17.6s remaining:    0.0s\n"
     ]
    },
    {
     "name": "stdout",
     "output_type": "stream",
     "text": [
      "[CV]  random_seed=42, loss_function=CrossEntropy, logging_level=Silent, learning_rate=0.15, leaf_estimation_iterations=10, l2_leaf_reg=38.11120070597852, iterations=500, depth=1, score=0.943, total=  11.3s\n",
      "[CV] random_seed=42, loss_function=CrossEntropy, logging_level=Silent, learning_rate=0.15, leaf_estimation_iterations=10, l2_leaf_reg=38.11120070597852, iterations=500, depth=1 \n"
     ]
    },
    {
     "name": "stderr",
     "output_type": "stream",
     "text": [
      "[Parallel(n_jobs=1)]: Done   2 out of   2 | elapsed:   29.0s remaining:    0.0s\n"
     ]
    },
    {
     "name": "stdout",
     "output_type": "stream",
     "text": [
      "[CV]  random_seed=42, loss_function=CrossEntropy, logging_level=Silent, learning_rate=0.15, leaf_estimation_iterations=10, l2_leaf_reg=38.11120070597852, iterations=500, depth=1, score=0.989, total=  12.3s\n",
      "[CV] random_seed=42, loss_function=CrossEntropy, logging_level=Silent, learning_rate=0.15, leaf_estimation_iterations=10, l2_leaf_reg=38.11120070597852, iterations=500, depth=1 \n",
      "[CV]  random_seed=42, loss_function=CrossEntropy, logging_level=Silent, learning_rate=0.15, leaf_estimation_iterations=10, l2_leaf_reg=38.11120070597852, iterations=500, depth=1, score=1.000, total=   8.2s\n",
      "[CV] random_seed=42, loss_function=CrossEntropy, logging_level=Silent, learning_rate=0.15, leaf_estimation_iterations=10, l2_leaf_reg=38.11120070597852, iterations=500, depth=1 \n",
      "[CV]  random_seed=42, loss_function=CrossEntropy, logging_level=Silent, learning_rate=0.15, leaf_estimation_iterations=10, l2_leaf_reg=38.11120070597852, iterations=500, depth=1, score=0.966, total=   8.6s\n",
      "[CV] random_seed=42, loss_function=Logloss, logging_level=Silent, learning_rate=0.5, leaf_estimation_iterations=10, l2_leaf_reg=2.685019032003968, iterations=400, depth=1 \n",
      "[CV]  random_seed=42, loss_function=Logloss, logging_level=Silent, learning_rate=0.5, leaf_estimation_iterations=10, l2_leaf_reg=2.685019032003968, iterations=400, depth=1, score=0.977, total=   2.8s\n",
      "[CV] random_seed=42, loss_function=Logloss, logging_level=Silent, learning_rate=0.5, leaf_estimation_iterations=10, l2_leaf_reg=2.685019032003968, iterations=400, depth=1 \n",
      "[CV]  random_seed=42, loss_function=Logloss, logging_level=Silent, learning_rate=0.5, leaf_estimation_iterations=10, l2_leaf_reg=2.685019032003968, iterations=400, depth=1, score=0.978, total=   4.3s\n",
      "[CV] random_seed=42, loss_function=Logloss, logging_level=Silent, learning_rate=0.5, leaf_estimation_iterations=10, l2_leaf_reg=2.685019032003968, iterations=400, depth=1 \n",
      "[CV]  random_seed=42, loss_function=Logloss, logging_level=Silent, learning_rate=0.5, leaf_estimation_iterations=10, l2_leaf_reg=2.685019032003968, iterations=400, depth=1, score=0.989, total=   3.6s\n",
      "[CV] random_seed=42, loss_function=Logloss, logging_level=Silent, learning_rate=0.5, leaf_estimation_iterations=10, l2_leaf_reg=2.685019032003968, iterations=400, depth=1 \n",
      "[CV]  random_seed=42, loss_function=Logloss, logging_level=Silent, learning_rate=0.5, leaf_estimation_iterations=10, l2_leaf_reg=2.685019032003968, iterations=400, depth=1, score=0.989, total=   2.5s\n",
      "[CV] random_seed=42, loss_function=Logloss, logging_level=Silent, learning_rate=0.5, leaf_estimation_iterations=10, l2_leaf_reg=2.685019032003968, iterations=400, depth=1 \n",
      "[CV]  random_seed=42, loss_function=Logloss, logging_level=Silent, learning_rate=0.5, leaf_estimation_iterations=10, l2_leaf_reg=2.685019032003968, iterations=400, depth=1, score=0.966, total=   3.4s\n",
      "[CV] random_seed=42, loss_function=Logloss, logging_level=Silent, learning_rate=0.2, leaf_estimation_iterations=10, l2_leaf_reg=18.485964098624848, iterations=900, depth=1 \n",
      "[CV]  random_seed=42, loss_function=Logloss, logging_level=Silent, learning_rate=0.2, leaf_estimation_iterations=10, l2_leaf_reg=18.485964098624848, iterations=900, depth=1, score=0.989, total=  17.2s\n",
      "[CV] random_seed=42, loss_function=Logloss, logging_level=Silent, learning_rate=0.2, leaf_estimation_iterations=10, l2_leaf_reg=18.485964098624848, iterations=900, depth=1 \n",
      "[CV]  random_seed=42, loss_function=Logloss, logging_level=Silent, learning_rate=0.2, leaf_estimation_iterations=10, l2_leaf_reg=18.485964098624848, iterations=900, depth=1, score=0.978, total=  13.8s\n",
      "[CV] random_seed=42, loss_function=Logloss, logging_level=Silent, learning_rate=0.2, leaf_estimation_iterations=10, l2_leaf_reg=18.485964098624848, iterations=900, depth=1 \n",
      "[CV]  random_seed=42, loss_function=Logloss, logging_level=Silent, learning_rate=0.2, leaf_estimation_iterations=10, l2_leaf_reg=18.485964098624848, iterations=900, depth=1, score=0.989, total=  18.9s\n",
      "[CV] random_seed=42, loss_function=Logloss, logging_level=Silent, learning_rate=0.2, leaf_estimation_iterations=10, l2_leaf_reg=18.485964098624848, iterations=900, depth=1 \n",
      "[CV]  random_seed=42, loss_function=Logloss, logging_level=Silent, learning_rate=0.2, leaf_estimation_iterations=10, l2_leaf_reg=18.485964098624848, iterations=900, depth=1, score=1.000, total=  21.8s\n",
      "[CV] random_seed=42, loss_function=Logloss, logging_level=Silent, learning_rate=0.2, leaf_estimation_iterations=10, l2_leaf_reg=18.485964098624848, iterations=900, depth=1 \n",
      "[CV]  random_seed=42, loss_function=Logloss, logging_level=Silent, learning_rate=0.2, leaf_estimation_iterations=10, l2_leaf_reg=18.485964098624848, iterations=900, depth=1, score=0.966, total=  18.3s\n",
      "[CV] random_seed=42, loss_function=CrossEntropy, logging_level=Silent, learning_rate=0.1, leaf_estimation_iterations=10, l2_leaf_reg=61.73426982315296, iterations=500, depth=10 \n",
      "[CV]  random_seed=42, loss_function=CrossEntropy, logging_level=Silent, learning_rate=0.1, leaf_estimation_iterations=10, l2_leaf_reg=61.73426982315296, iterations=500, depth=10, score=0.957, total= 2.3min\n",
      "[CV] random_seed=42, loss_function=CrossEntropy, logging_level=Silent, learning_rate=0.1, leaf_estimation_iterations=10, l2_leaf_reg=61.73426982315296, iterations=500, depth=10 \n",
      "[CV]  random_seed=42, loss_function=CrossEntropy, logging_level=Silent, learning_rate=0.1, leaf_estimation_iterations=10, l2_leaf_reg=61.73426982315296, iterations=500, depth=10, score=0.967, total= 2.3min\n",
      "[CV] random_seed=42, loss_function=CrossEntropy, logging_level=Silent, learning_rate=0.1, leaf_estimation_iterations=10, l2_leaf_reg=61.73426982315296, iterations=500, depth=10 \n",
      "[CV]  random_seed=42, loss_function=CrossEntropy, logging_level=Silent, learning_rate=0.1, leaf_estimation_iterations=10, l2_leaf_reg=61.73426982315296, iterations=500, depth=10, score=0.989, total= 2.3min\n",
      "[CV] random_seed=42, loss_function=CrossEntropy, logging_level=Silent, learning_rate=0.1, leaf_estimation_iterations=10, l2_leaf_reg=61.73426982315296, iterations=500, depth=10 \n",
      "[CV]  random_seed=42, loss_function=CrossEntropy, logging_level=Silent, learning_rate=0.1, leaf_estimation_iterations=10, l2_leaf_reg=61.73426982315296, iterations=500, depth=10, score=0.989, total= 2.4min\n",
      "[CV] random_seed=42, loss_function=CrossEntropy, logging_level=Silent, learning_rate=0.1, leaf_estimation_iterations=10, l2_leaf_reg=61.73426982315296, iterations=500, depth=10 \n",
      "[CV]  random_seed=42, loss_function=CrossEntropy, logging_level=Silent, learning_rate=0.1, leaf_estimation_iterations=10, l2_leaf_reg=61.73426982315296, iterations=500, depth=10, score=0.978, total= 2.3min\n",
      "[CV] random_seed=42, loss_function=CrossEntropy, logging_level=Silent, learning_rate=0.1, leaf_estimation_iterations=10, l2_leaf_reg=61.73426982315296, iterations=400, depth=10 \n",
      "[CV]  random_seed=42, loss_function=CrossEntropy, logging_level=Silent, learning_rate=0.1, leaf_estimation_iterations=10, l2_leaf_reg=61.73426982315296, iterations=400, depth=10, score=0.909, total=  28.2s\n",
      "[CV] random_seed=42, loss_function=CrossEntropy, logging_level=Silent, learning_rate=0.1, leaf_estimation_iterations=10, l2_leaf_reg=61.73426982315296, iterations=400, depth=10 \n",
      "[CV]  random_seed=42, loss_function=CrossEntropy, logging_level=Silent, learning_rate=0.1, leaf_estimation_iterations=10, l2_leaf_reg=61.73426982315296, iterations=400, depth=10, score=0.967, total=  27.9s\n",
      "[CV] random_seed=42, loss_function=CrossEntropy, logging_level=Silent, learning_rate=0.1, leaf_estimation_iterations=10, l2_leaf_reg=61.73426982315296, iterations=400, depth=10 \n",
      "[CV]  random_seed=42, loss_function=CrossEntropy, logging_level=Silent, learning_rate=0.1, leaf_estimation_iterations=10, l2_leaf_reg=61.73426982315296, iterations=400, depth=10, score=0.989, total=  28.2s\n",
      "[CV] random_seed=42, loss_function=CrossEntropy, logging_level=Silent, learning_rate=0.1, leaf_estimation_iterations=10, l2_leaf_reg=61.73426982315296, iterations=400, depth=10 \n",
      "[CV]  random_seed=42, loss_function=CrossEntropy, logging_level=Silent, learning_rate=0.1, leaf_estimation_iterations=10, l2_leaf_reg=61.73426982315296, iterations=400, depth=10, score=0.977, total=  27.8s\n",
      "[CV] random_seed=42, loss_function=CrossEntropy, logging_level=Silent, learning_rate=0.1, leaf_estimation_iterations=10, l2_leaf_reg=61.73426982315296, iterations=400, depth=10 \n"
     ]
    },
    {
     "name": "stdout",
     "output_type": "stream",
     "text": [
      "[CV]  random_seed=42, loss_function=CrossEntropy, logging_level=Silent, learning_rate=0.1, leaf_estimation_iterations=10, l2_leaf_reg=61.73426982315296, iterations=400, depth=10, score=0.978, total=  27.7s\n",
      "[CV] random_seed=42, loss_function=CrossEntropy, logging_level=Silent, learning_rate=0.2, leaf_estimation_iterations=10, l2_leaf_reg=7.045222880062048, iterations=300, depth=7 \n",
      "[CV]  random_seed=42, loss_function=CrossEntropy, logging_level=Silent, learning_rate=0.2, leaf_estimation_iterations=10, l2_leaf_reg=7.045222880062048, iterations=300, depth=7, score=0.977, total=   6.8s\n",
      "[CV] random_seed=42, loss_function=CrossEntropy, logging_level=Silent, learning_rate=0.2, leaf_estimation_iterations=10, l2_leaf_reg=7.045222880062048, iterations=300, depth=7 \n",
      "[CV]  random_seed=42, loss_function=CrossEntropy, logging_level=Silent, learning_rate=0.2, leaf_estimation_iterations=10, l2_leaf_reg=7.045222880062048, iterations=300, depth=7, score=0.967, total=   7.9s\n",
      "[CV] random_seed=42, loss_function=CrossEntropy, logging_level=Silent, learning_rate=0.2, leaf_estimation_iterations=10, l2_leaf_reg=7.045222880062048, iterations=300, depth=7 \n",
      "[CV]  random_seed=42, loss_function=CrossEntropy, logging_level=Silent, learning_rate=0.2, leaf_estimation_iterations=10, l2_leaf_reg=7.045222880062048, iterations=300, depth=7, score=0.989, total=   7.3s\n",
      "[CV] random_seed=42, loss_function=CrossEntropy, logging_level=Silent, learning_rate=0.2, leaf_estimation_iterations=10, l2_leaf_reg=7.045222880062048, iterations=300, depth=7 \n",
      "[CV]  random_seed=42, loss_function=CrossEntropy, logging_level=Silent, learning_rate=0.2, leaf_estimation_iterations=10, l2_leaf_reg=7.045222880062048, iterations=300, depth=7, score=0.989, total=   7.5s\n",
      "[CV] random_seed=42, loss_function=CrossEntropy, logging_level=Silent, learning_rate=0.2, leaf_estimation_iterations=10, l2_leaf_reg=7.045222880062048, iterations=300, depth=7 \n",
      "[CV]  random_seed=42, loss_function=CrossEntropy, logging_level=Silent, learning_rate=0.2, leaf_estimation_iterations=10, l2_leaf_reg=7.045222880062048, iterations=300, depth=7, score=0.978, total=  10.1s\n",
      "[CV] random_seed=42, loss_function=Logloss, logging_level=Silent, learning_rate=0.5, leaf_estimation_iterations=10, l2_leaf_reg=38.11120070597852, iterations=700, depth=4 \n",
      "[CV]  random_seed=42, loss_function=Logloss, logging_level=Silent, learning_rate=0.5, leaf_estimation_iterations=10, l2_leaf_reg=38.11120070597852, iterations=700, depth=4, score=0.967, total=  20.0s\n",
      "[CV] random_seed=42, loss_function=Logloss, logging_level=Silent, learning_rate=0.5, leaf_estimation_iterations=10, l2_leaf_reg=38.11120070597852, iterations=700, depth=4 \n",
      "[CV]  random_seed=42, loss_function=Logloss, logging_level=Silent, learning_rate=0.5, leaf_estimation_iterations=10, l2_leaf_reg=38.11120070597852, iterations=700, depth=4, score=0.978, total=  16.0s\n",
      "[CV] random_seed=42, loss_function=Logloss, logging_level=Silent, learning_rate=0.5, leaf_estimation_iterations=10, l2_leaf_reg=38.11120070597852, iterations=700, depth=4 \n",
      "[CV]  random_seed=42, loss_function=Logloss, logging_level=Silent, learning_rate=0.5, leaf_estimation_iterations=10, l2_leaf_reg=38.11120070597852, iterations=700, depth=4, score=0.989, total=  16.1s\n",
      "[CV] random_seed=42, loss_function=Logloss, logging_level=Silent, learning_rate=0.5, leaf_estimation_iterations=10, l2_leaf_reg=38.11120070597852, iterations=700, depth=4 \n",
      "[CV]  random_seed=42, loss_function=Logloss, logging_level=Silent, learning_rate=0.5, leaf_estimation_iterations=10, l2_leaf_reg=38.11120070597852, iterations=700, depth=4, score=1.000, total=  17.1s\n",
      "[CV] random_seed=42, loss_function=Logloss, logging_level=Silent, learning_rate=0.5, leaf_estimation_iterations=10, l2_leaf_reg=38.11120070597852, iterations=700, depth=4 \n",
      "[CV]  random_seed=42, loss_function=Logloss, logging_level=Silent, learning_rate=0.5, leaf_estimation_iterations=10, l2_leaf_reg=38.11120070597852, iterations=700, depth=4, score=0.967, total=  16.0s\n",
      "[CV] random_seed=42, loss_function=CrossEntropy, logging_level=Silent, learning_rate=0.15, leaf_estimation_iterations=10, l2_leaf_reg=11.412174956056242, iterations=500, depth=7 \n",
      "[CV]  random_seed=42, loss_function=CrossEntropy, logging_level=Silent, learning_rate=0.15, leaf_estimation_iterations=10, l2_leaf_reg=11.412174956056242, iterations=500, depth=7, score=0.978, total=  26.3s\n",
      "[CV] random_seed=42, loss_function=CrossEntropy, logging_level=Silent, learning_rate=0.15, leaf_estimation_iterations=10, l2_leaf_reg=11.412174956056242, iterations=500, depth=7 \n",
      "[CV]  random_seed=42, loss_function=CrossEntropy, logging_level=Silent, learning_rate=0.15, leaf_estimation_iterations=10, l2_leaf_reg=11.412174956056242, iterations=500, depth=7, score=0.978, total=  22.6s\n",
      "[CV] random_seed=42, loss_function=CrossEntropy, logging_level=Silent, learning_rate=0.15, leaf_estimation_iterations=10, l2_leaf_reg=11.412174956056242, iterations=500, depth=7 \n",
      "[CV]  random_seed=42, loss_function=CrossEntropy, logging_level=Silent, learning_rate=0.15, leaf_estimation_iterations=10, l2_leaf_reg=11.412174956056242, iterations=500, depth=7, score=0.989, total=  21.7s\n",
      "[CV] random_seed=42, loss_function=CrossEntropy, logging_level=Silent, learning_rate=0.15, leaf_estimation_iterations=10, l2_leaf_reg=11.412174956056242, iterations=500, depth=7 \n",
      "[CV]  random_seed=42, loss_function=CrossEntropy, logging_level=Silent, learning_rate=0.15, leaf_estimation_iterations=10, l2_leaf_reg=11.412174956056242, iterations=500, depth=7, score=1.000, total=  23.3s\n",
      "[CV] random_seed=42, loss_function=CrossEntropy, logging_level=Silent, learning_rate=0.15, leaf_estimation_iterations=10, l2_leaf_reg=11.412174956056242, iterations=500, depth=7 \n",
      "[CV]  random_seed=42, loss_function=CrossEntropy, logging_level=Silent, learning_rate=0.15, leaf_estimation_iterations=10, l2_leaf_reg=11.412174956056242, iterations=500, depth=7, score=0.978, total=  22.1s\n",
      "[CV] random_seed=42, loss_function=Logloss, logging_level=Silent, learning_rate=0.2, leaf_estimation_iterations=10, l2_leaf_reg=29.944411996093343, iterations=500, depth=1 \n",
      "[CV]  random_seed=42, loss_function=Logloss, logging_level=Silent, learning_rate=0.2, leaf_estimation_iterations=10, l2_leaf_reg=29.944411996093343, iterations=500, depth=1, score=0.945, total=   7.6s\n",
      "[CV] random_seed=42, loss_function=Logloss, logging_level=Silent, learning_rate=0.2, leaf_estimation_iterations=10, l2_leaf_reg=29.944411996093343, iterations=500, depth=1 \n",
      "[CV]  random_seed=42, loss_function=Logloss, logging_level=Silent, learning_rate=0.2, leaf_estimation_iterations=10, l2_leaf_reg=29.944411996093343, iterations=500, depth=1, score=0.943, total=   7.6s\n",
      "[CV] random_seed=42, loss_function=Logloss, logging_level=Silent, learning_rate=0.2, leaf_estimation_iterations=10, l2_leaf_reg=29.944411996093343, iterations=500, depth=1 \n",
      "[CV]  random_seed=42, loss_function=Logloss, logging_level=Silent, learning_rate=0.2, leaf_estimation_iterations=10, l2_leaf_reg=29.944411996093343, iterations=500, depth=1, score=0.989, total=   8.6s\n",
      "[CV] random_seed=42, loss_function=Logloss, logging_level=Silent, learning_rate=0.2, leaf_estimation_iterations=10, l2_leaf_reg=29.944411996093343, iterations=500, depth=1 \n",
      "[CV]  random_seed=42, loss_function=Logloss, logging_level=Silent, learning_rate=0.2, leaf_estimation_iterations=10, l2_leaf_reg=29.944411996093343, iterations=500, depth=1, score=1.000, total=   7.8s\n",
      "[CV] random_seed=42, loss_function=Logloss, logging_level=Silent, learning_rate=0.2, leaf_estimation_iterations=10, l2_leaf_reg=29.944411996093343, iterations=500, depth=1 \n",
      "[CV]  random_seed=42, loss_function=Logloss, logging_level=Silent, learning_rate=0.2, leaf_estimation_iterations=10, l2_leaf_reg=29.944411996093343, iterations=500, depth=1, score=0.966, total=   7.8s\n",
      "[CV] random_seed=42, loss_function=Logloss, logging_level=Silent, learning_rate=0.001, leaf_estimation_iterations=10, l2_leaf_reg=100.0, iterations=800, depth=4 \n",
      "[CV]  random_seed=42, loss_function=Logloss, logging_level=Silent, learning_rate=0.001, leaf_estimation_iterations=10, l2_leaf_reg=100.0, iterations=800, depth=4, score=0.886, total=  16.1s\n",
      "[CV] random_seed=42, loss_function=Logloss, logging_level=Silent, learning_rate=0.001, leaf_estimation_iterations=10, l2_leaf_reg=100.0, iterations=800, depth=4 \n"
     ]
    },
    {
     "name": "stdout",
     "output_type": "stream",
     "text": [
      "[CV]  random_seed=42, loss_function=Logloss, logging_level=Silent, learning_rate=0.001, leaf_estimation_iterations=10, l2_leaf_reg=100.0, iterations=800, depth=4, score=0.926, total=  21.5s\n",
      "[CV] random_seed=42, loss_function=Logloss, logging_level=Silent, learning_rate=0.001, leaf_estimation_iterations=10, l2_leaf_reg=100.0, iterations=800, depth=4 \n",
      "[CV]  random_seed=42, loss_function=Logloss, logging_level=Silent, learning_rate=0.001, leaf_estimation_iterations=10, l2_leaf_reg=100.0, iterations=800, depth=4, score=0.900, total=  17.2s\n",
      "[CV] random_seed=42, loss_function=Logloss, logging_level=Silent, learning_rate=0.001, leaf_estimation_iterations=10, l2_leaf_reg=100.0, iterations=800, depth=4 \n",
      "[CV]  random_seed=42, loss_function=Logloss, logging_level=Silent, learning_rate=0.001, leaf_estimation_iterations=10, l2_leaf_reg=100.0, iterations=800, depth=4, score=0.889, total=  16.6s\n",
      "[CV] random_seed=42, loss_function=Logloss, logging_level=Silent, learning_rate=0.001, leaf_estimation_iterations=10, l2_leaf_reg=100.0, iterations=800, depth=4 \n",
      "[CV]  random_seed=42, loss_function=Logloss, logging_level=Silent, learning_rate=0.001, leaf_estimation_iterations=10, l2_leaf_reg=100.0, iterations=800, depth=4, score=0.915, total=  17.8s\n"
     ]
    },
    {
     "name": "stderr",
     "output_type": "stream",
     "text": [
      "[Parallel(n_jobs=1)]: Done  50 out of  50 | elapsed: 22.9min finished\n"
     ]
    }
   ],
   "source": [
    "grid = RandomizedSearchCV(clf,\n",
    "                          params,\n",
    "                          n_jobs=1,\n",
    "                          n_iter=10,\n",
    "                          scoring=\"f1\",\n",
    "                          cv=5, \n",
    "                          verbose= 3)\n",
    "\n",
    "grid.fit(x_train, y_train, cat_features=indexes_of_categories)\n",
    "best_params = grid.best_estimator_.get_params()"
   ]
  },
  {
   "cell_type": "code",
   "execution_count": 43,
   "metadata": {
    "ExecuteTime": {
     "end_time": "2020-12-06T08:46:04.508509Z",
     "start_time": "2020-12-06T08:46:04.501117Z"
    }
   },
   "outputs": [
    {
     "name": "stdout",
     "output_type": "stream",
     "text": [
      "{'cat_features': [0, 1, 2, 3, 4, 5, 6, 7, 8, 9, 10, 11, 12, 13, 14], 'eval_metric': 'F1', 'random_seed': 42, 'loss_function': 'CrossEntropy', 'logging_level': 'Silent', 'learning_rate': 0.15, 'leaf_estimation_iterations': 10, 'l2_leaf_reg': 11.412174956056242, 'iterations': 500, 'depth': 7}\n"
     ]
    }
   ],
   "source": [
    "print(best_params)"
   ]
  },
  {
   "cell_type": "code",
   "execution_count": 44,
   "metadata": {
    "ExecuteTime": {
     "end_time": "2020-12-06T08:46:34.600776Z",
     "start_time": "2020-12-06T08:46:04.515888Z"
    }
   },
   "outputs": [],
   "source": [
    "clf_cat = cat.CatBoostClassifier(**best_params).fit(x_train, y_train,cat_features=indexes_of_categories)\n",
    "y_pred = clf_cat.predict(x_val)\n",
    "y_pred_proba = clf_cat.predict_proba(x_val)[:,-1]"
   ]
  },
  {
   "cell_type": "code",
   "execution_count": 45,
   "metadata": {
    "ExecuteTime": {
     "end_time": "2020-12-06T08:46:34.619669Z",
     "start_time": "2020-12-06T08:46:34.603366Z"
    }
   },
   "outputs": [
    {
     "name": "stdout",
     "output_type": "stream",
     "text": [
      "              precision    recall  f1-score   support\n",
      "\n",
      "           0       1.00      1.00      1.00       383\n",
      "           1       0.98      1.00      0.99        54\n",
      "\n",
      "    accuracy                           1.00       437\n",
      "   macro avg       0.99      1.00      0.99       437\n",
      "weighted avg       1.00      1.00      1.00       437\n",
      "\n",
      "0.9986945169712793\n"
     ]
    }
   ],
   "source": [
    "print(classification_report(y_val, y_pred))\n",
    "print(roc_auc_score(y_val, y_pred))"
   ]
  },
  {
   "cell_type": "code",
   "execution_count": 46,
   "metadata": {
    "ExecuteTime": {
     "end_time": "2020-12-06T08:46:34.636720Z",
     "start_time": "2020-12-06T08:46:34.623566Z"
    }
   },
   "outputs": [],
   "source": [
    "path = \"models/\"\n",
    "model_name = \"feature__selected_model_viral\"\n",
    "clf_cat.save_model(path + \"/\" + model_name)"
   ]
  },
  {
   "cell_type": "markdown",
   "metadata": {
    "ExecuteTime": {
     "start_time": "2020-12-06T06:47:43.164Z"
    }
   },
   "source": [
    "#  Validation bacteria"
   ]
  },
  {
   "cell_type": "code",
   "execution_count": 84,
   "metadata": {
    "ExecuteTime": {
     "end_time": "2020-12-06T10:50:14.855135Z",
     "start_time": "2020-12-06T10:50:12.750416Z"
    }
   },
   "outputs": [
    {
     "data": {
      "text/plain": [
       "<matplotlib.axes._subplots.AxesSubplot at 0x12d8ecac8>"
      ]
     },
     "execution_count": 84,
     "metadata": {},
     "output_type": "execute_result"
    },
    {
     "data": {
      "image/png": "[encoded data removed]",
      "text/plain": [
       "<Figure size 1080x360 with 1 Axes>"
      ]
     },
     "metadata": {
      "needs_background": "light"
     },
     "output_type": "display_data"
    }
   ],
   "source": [
    "df = read_json(\"bacterial_pf00136_filtered_v2.json\")\n",
    "\n",
    "df = df.drop(columns=[\"coevolution\"])\n",
    "df.ssbonds = df.ssbonds.apply(make_binary_disulf)\n",
    "\n",
    "new_colnames = [] \n",
    "counter = 0\n",
    "for i, j in zip(df.columns[:], df.iloc[0, :]):\n",
    "    for k in range(len(j)):\n",
    "        new_colnames.append(str(counter)+'_'+i+'_'+str(k))\n",
    "        counter += 1\n",
    "        \n",
    "\n",
    "\n",
    "df_label = pd.DataFrame()\n",
    "for i in df.columns: \n",
    "    df_label = pd.concat([df_label, pd.DataFrame(df[i].tolist(), index= df.index)], axis = 1)\n",
    "\n",
    "df_label.columns = new_colnames\n",
    "\n",
    "\n",
    "selected = ['5_dntp_binding_2', '101_pockets_2', '14_primer_binding_4', '43_replication_activity_3',\n",
    " '15_primer_binding_5', '8_dntp_binding_5', '90_conservative_29', '66_conservative_5',\n",
    " '70_conservative_9', '39_Mg_5', '27_exonuclease_9', '93_conservative_32', '67_conservative_6',\n",
    " '28_exonuclease_10', '37_Mg_3']\n",
    "df_label = df_label[selected]\n",
    "\n",
    "clf_cat = cat.CatBoostClassifier() # parameters not required.\n",
    "clf_cat.load_model(path + \"/\" + model_name)\n",
    "y_pred = clf_cat.predict(df_label)\n",
    "y_pred_proba = clf_cat.predict_proba(df_label)[:,-1]\n",
    "labelsdf = pd.DataFrame()\n",
    "labelsdf['target'] = y_pred\n",
    "labelsdf['proba'] = y_pred_proba\n",
    "plt.figure(figsize=(15,5))\n",
    "sns.distplot(labelsdf[labelsdf['target']==1]['proba'])\n",
    "sns.distplot(labelsdf[labelsdf['target']==0]['proba'])\n",
    "\n"
   ]
  },
  {
   "cell_type": "code",
   "execution_count": 87,
   "metadata": {
    "ExecuteTime": {
     "end_time": "2020-12-06T10:50:54.681051Z",
     "start_time": "2020-12-06T10:50:54.674956Z"
    }
   },
   "outputs": [
    {
     "data": {
      "text/plain": [
       "Index(['catalytic', 'dntp_binding', 'primer_binding', 'exonuclease', 'Mg',\n",
       "       'replication_activity', 'conservative', 'ssbonds', 'pockets'],\n",
       "      dtype='object')"
      ]
     },
     "execution_count": 87,
     "metadata": {},
     "output_type": "execute_result"
    }
   ],
   "source": [
    "df.columns"
   ]
  },
  {
   "cell_type": "code",
   "execution_count": 58,
   "metadata": {
    "ExecuteTime": {
     "end_time": "2020-12-06T08:48:19.012219Z",
     "start_time": "2020-12-06T08:48:18.998668Z"
    }
   },
   "outputs": [
    {
     "name": "stdout",
     "output_type": "stream",
     "text": [
      "predicted 110 positives from 7157 queries\n",
      "1.537%\n"
     ]
    }
   ],
   "source": [
    "n = len(y_pred)\n",
    "pos = len([elem for elem in y_pred if elem == 1])\n",
    "print('predicted '+str(pos)+' positives from '+str(n)+' queries')\n",
    "print(str(round(pos/n*100,3))+'%')"
   ]
  },
  {
   "cell_type": "code",
   "execution_count": 59,
   "metadata": {
    "ExecuteTime": {
     "end_time": "2020-12-06T08:48:19.030650Z",
     "start_time": "2020-12-06T08:48:19.017590Z"
    }
   },
   "outputs": [],
   "source": [
    "df_label['target'] = y_pred\n",
    "my_list = df_label[df_label['target']==1].index\n",
    "\n",
    "with open('bacterial_pf00136_predicted.txt', 'w') as f:\n",
    "    for item in my_list:\n",
    "        f.write(\"%s\\n\" % item)"
   ]
  },
  {
   "cell_type": "markdown",
   "metadata": {},
   "source": [
    "# Virus  Validation"
   ]
  },
  {
   "cell_type": "code",
   "execution_count": 95,
   "metadata": {
    "ExecuteTime": {
     "end_time": "2020-12-06T11:18:55.175680Z",
     "start_time": "2020-12-06T11:18:54.851851Z"
    }
   },
   "outputs": [
    {
     "data": {
      "text/plain": [
       "<matplotlib.axes._subplots.AxesSubplot at 0x12e03eef0>"
      ]
     },
     "execution_count": 95,
     "metadata": {},
     "output_type": "execute_result"
    },
    {
     "data": {
      "image/png": "[encoded data removed]",
      "text/plain": [
       "<Figure size 1080x360 with 1 Axes>"
      ]
     },
     "metadata": {
      "needs_background": "light"
     },
     "output_type": "display_data"
    }
   ],
   "source": [
    "df = read_json(\"viral_proteins_2020_filtered.json\")\n",
    "df = df[['catalytic', 'dntp_binding', 'primer_binding', 'exonuclease', 'Mg',\n",
    "       'replication_activity', 'conservative', 'ssbonds', 'pockets']]\n",
    "\n",
    "#df = df.drop(columns=[\"coevolution\"])\n",
    "df.ssbonds = df.ssbonds.apply(make_binary_disulf)\n",
    "\n",
    "new_colnames = [] \n",
    "counter = 0\n",
    "for i, j in zip(df.columns[:], df.iloc[0, :]):\n",
    "    for k in range(len(j)):\n",
    "        new_colnames.append(str(counter)+'_'+i+'_'+str(k))\n",
    "        counter += 1\n",
    "        \n",
    "\n",
    "\n",
    "df_label = pd.DataFrame()\n",
    "for i in df.columns: \n",
    "    df_label = pd.concat([df_label, pd.DataFrame(df[i].tolist(), index= df.index)], axis = 1)\n",
    "\n",
    "df_label.columns = new_colnames\n",
    "\n",
    "\n",
    "selected = ['5_dntp_binding_2', '101_pockets_2', '14_primer_binding_4', '43_replication_activity_3',\n",
    " '15_primer_binding_5', '8_dntp_binding_5', '90_conservative_29', '66_conservative_5',\n",
    " '70_conservative_9', '39_Mg_5', '27_exonuclease_9', '93_conservative_32', '67_conservative_6',\n",
    " '28_exonuclease_10', '37_Mg_3']\n",
    "df_label = df_label[selected]\n",
    "\n",
    "clf_cat = cat.CatBoostClassifier() # parameters not required.\n",
    "clf_cat.load_model(path + \"/\" + model_name)\n",
    "y_pred = clf_cat.predict(df_label)\n",
    "y_pred_proba = clf_cat.predict_proba(df_label)[:,-1]\n",
    "labelsdf = pd.DataFrame()\n",
    "labelsdf['target'] = y_pred\n",
    "labelsdf['proba'] = y_pred_proba\n",
    "plt.figure(figsize=(15,5))\n",
    "sns.distplot(labelsdf[labelsdf['target']==1]['proba'])\n",
    "sns.distplot(labelsdf[labelsdf['target']==0]['proba'])\n",
    "\n",
    "\n"
   ]
  },
  {
   "cell_type": "code",
   "execution_count": 97,
   "metadata": {
    "ExecuteTime": {
     "end_time": "2020-12-06T11:19:09.061300Z",
     "start_time": "2020-12-06T11:19:09.050773Z"
    }
   },
   "outputs": [],
   "source": [
    "df_label['target'] = y_pred\n",
    "my_list = df_label[df_label['target']==1].index\n",
    "\n",
    "with open('viral_predicted.txt', 'w') as f:\n",
    "    for item in my_list:\n",
    "        f.write(\"%s\\n\" % item)"
   ]
  },
  {
   "cell_type": "code",
   "execution_count": 94,
   "metadata": {
    "ExecuteTime": {
     "end_time": "2020-12-06T11:16:14.041221Z",
     "start_time": "2020-12-06T11:16:14.032541Z"
    }
   },
   "outputs": [
    {
     "name": "stdout",
     "output_type": "stream",
     "text": [
      "predicted 76 positives from 86 queries\n",
      "88.372%\n"
     ]
    }
   ],
   "source": [
    "n = len(y_pred)\n",
    "pos = len([elem for elem in y_pred if elem == 1])\n",
    "print('predicted '+str(pos)+' positives from '+str(n)+' queries')\n",
    "print(str(round(pos/n*100,3))+'%')"
   ]
  },
  {
   "cell_type": "code",
   "execution_count": null,
   "metadata": {},
   "outputs": [],
   "source": []
  }
 ],
 "metadata": {
  "kernelspec": {
   "display_name": "Python 3",
   "language": "python",
   "name": "python3"
  },
  "language_info": {
   "codemirror_mode": {
    "name": "ipython",
    "version": 3
   },
   "file_extension": ".py",
   "mimetype": "text/x-python",
   "name": "python",
   "nbconvert_exporter": "python",
   "pygments_lexer": "ipython3",
   "version": "3.6.10"
  },
  "toc": {
   "base_numbering": 1,
   "nav_menu": {},
   "number_sections": true,
   "sideBar": true,
   "skip_h1_title": false,
   "title_cell": "Table of Contents",
   "title_sidebar": "Contents",
   "toc_cell": false,
   "toc_position": {},
   "toc_section_display": true,
   "toc_window_display": false
  }
 },
 "nbformat": 4,
 "nbformat_minor": 4
}
